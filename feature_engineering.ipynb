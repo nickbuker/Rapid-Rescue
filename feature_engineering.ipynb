{
 "cells": [
  {
   "cell_type": "code",
   "execution_count": 13,
   "metadata": {
    "collapsed": true
   },
   "outputs": [],
   "source": [
    "# Import pandas(for making data tables)\n",
    "import pandas as pd\n",
    "import numpy as np\n",
    "from datetime import datetime\n",
    "\n",
    "# Graphing modules\n",
    "import matplotlib.pyplot as plt\n",
    "from matplotlib import cm as cm\n",
    "from matplotlib import mlab as ml\n",
    "import seaborn as sns\n",
    "\n",
    "# MLB Python API tool\n",
    "import mlbgame\n",
    "\n",
    "# Holidays\n",
    "from pandas.tseries.holiday import USFederalHolidayCalendar, get_calendar\n",
    "\n",
    "# Makes plots in notebook|\n",
    "%matplotlib inline"
   ]
  },
  {
   "cell_type": "code",
   "execution_count": null,
   "metadata": {
    "collapsed": false
   },
   "outputs": [
    {
     "name": "stdout",
     "output_type": "stream",
     "text": [
      "<class 'pandas.core.frame.DataFrame'>\n",
      "RangeIndex: 551095 entries, 0 to 551094\n",
      "Data columns (total 12 columns):\n",
      "Address            551086 non-null object\n",
      "Type               551095 non-null object\n",
      "Datetime           551095 non-null datetime64[ns]\n",
      "Latitude           551095 non-null float64\n",
      "Longitude          551095 non-null float64\n",
      "Report Location    520631 non-null object\n",
      "Incident Number    522111 non-null object\n",
      "dt_crop            551095 non-null object\n",
      "date               551095 non-null object\n",
      "time               551095 non-null object\n",
      "date2              551095 non-null object\n",
      "time2              551095 non-null object\n",
      "dtypes: datetime64[ns](1), float64(2), object(9)\n",
      "memory usage: 50.5+ MB\n"
     ]
    }
   ],
   "source": [
    "# Load df, drop extra index column, cast to datetime\n",
    "df = pd.read_csv('./data/clean_seattle_911_no_dup.csv')\n",
    "df.drop(['Unnamed: 0'], axis=1, inplace=True)\n",
    "df.Datetime = pd.to_datetime(df.Datetime)\n",
    "df.info()"
   ]
  },
  {
   "cell_type": "code",
   "execution_count": null,
   "metadata": {
    "collapsed": true
   },
   "outputs": [],
   "source": [
    "# Get Mariners home games\n",
    "mariners_home = []\n",
    "month = mlbgame.games([2010, 2011, 2012, 2013, 2014, 2015, 2016], [1,2,3,4,5,6,7,8,9,10,11,12], home=\"Mariners\")\n",
    "games = mlbgame.combine_games(month)\n",
    "for game in games:\n",
    "    mariners_home.append(str(game.date)[:10])"
   ]
  },
  {
   "cell_type": "code",
   "execution_count": null,
   "metadata": {
    "collapsed": true
   },
   "outputs": [],
   "source": [
    "# http://www.fbschedules.com/nfl-11/2011-seattle-seahawks-football-schedule.php\n",
    "\n",
    "seahawks_home = ['2016-11-07', '2016-11-20', '2016-12-04', '2016-12-15',\n",
    "                 '2016-12-24', '2016-09-11', '2016-09-25', '2016-10-16',\n",
    "                 '2015-09-27', '2015-10-05', '2015-10-18', '2015-11-15', \n",
    "                 '2015-11-22', '2015-11-29', '2015-12-20', '2015-12-27',\n",
    "                 '2014-09-04', '2014-09-21', '2014-10-12', '2014-11-02',\n",
    "                 '2014-11-09', '2014-11-23', '2014-12-14', '2014-12-28',\n",
    "                 '2015-01-10', '2015-01-18',\n",
    "                 '2013-09-15', '2013-09-22', '2013-10-13', '2013-11-03',\n",
    "                 '2013-11-17', '2013-12-02', '2013-12-22', '2013-12-29',\n",
    "                 '2014-01-11', '2014-01-19',\n",
    "                 '2012-09-16', '2012-09-24', '2012-10-14', '2012-11-04',\n",
    "                 '2012-11-11', '2012-12-09', '2012-12-23', '2012-12-30',\n",
    "                 '2011-09-25', '2011-10-02', '2011-10-30', '2011-11-13',\n",
    "                 '2011-11-27', '2011-12-01', '2011-12-12', '2011-12-24',\n",
    "                 '2010-09-12', '2010-09-26', '2010-10-24', '2010-11-07',\n",
    "                 '2010-11-28', '2010-12-05', '2010-12-19', '2010-01-02',\n",
    "                 '2010-01-08', '2010-01-16']"
   ]
  },
  {
   "cell_type": "code",
   "execution_count": null,
   "metadata": {
    "collapsed": true
   },
   "outputs": [],
   "source": [
    "# Sounders home games from wikipedia\n",
    "\n",
    "sounders_home = ['2016-04-30', '2016-05-07', '2016-05-21', '2016-06-25',\n",
    "                 '2018-04-18', '2016-07-09', '2016-07-13', '2016-07-31',\n",
    "                 '2016-08-14', '2016-08-21', '2016-09-17', '2016-09-28',\n",
    "                 '2016-10-12', '2016-10-23', '2016-02-23', '2016-03-08'\n",
    "                 '2016-03-18', '2016-04-02', \n",
    "                 '2015-03-08', '2015-03-14', '2015-04-04', '2015-04-26',\n",
    "                 '2015-05-23', '2015-05-27', '2015-05-31', '2015-06-13',\n",
    "                 '2015-06-20', '2015-07-03', '2015-07-18', '2015-08-01',\n",
    "                 '2015-08-16', '2015-08-30', '2015-09-05', '2015-10-04',\n",
    "                 '2015-10-25',\n",
    "                 '2014-03-08', '2014-03-15', '2014-03-29', '2014-04-26',\n",
    "                 '2014-05-03', '2014-05-07', '2014-05-17', '2014-05-31',\n",
    "                 '2014-07-13', '2014-07-26', '2014-08-10', '2014-08-20',\n",
    "                 '2014-08-20', '2013-09-12', '2014-09-27', '2014-10-10',\n",
    "                 '2014-10-25',\n",
    "                 '2013-03-02', '2013-03-16', '2013-04-13', '2013-05-11',\n",
    "                 '2013-05-18', '2013-06-08', '2013-07-03', '2013-07-20',\n",
    "                 '2013-07-28', '2013-08-03', '2013-08-25', '2013-09-04',\n",
    "                 '2013-09-07', '2013-09-13', '2013-09-29', '2013-10-09',\n",
    "                 '2013-10-27',\n",
    "                 '2012-03-17', '2012-03-23', '2012-03-31', '2012-04-14',\n",
    "                 '2012-05-02', '2012-05-05', '2012-05-12', '2012-05-23',\n",
    "                 '2012-06-20', '2012-07-07', '2012-08-05', '2012-08-18',\n",
    "                 '2012-09-08', '2012-10-07', '2012-10-17', '2012-10-21',\n",
    "                 '2012-09-22'\n",
    "                 '2011-03-15', '2011-03-25', '2011-04-09', '2011-04-30',\n",
    "                 '2011-05-14', '2011-05-21', '2011-05-25', '2011-06-11',\n",
    "                 '2011-06-23', '2011-06-26', '2011-06-16', '2011-08-13',\n",
    "                 '2011-08-27', '2011-09-10', '2011-09-17', '2011-10-08',\n",
    "                 '2011-10-15', '2011-11-02', '2001-10-04',\n",
    "                 '2010-03-25', '2010-04-03', '2010-04-17', '2010-05-01',\n",
    "                 '2010-05-08', '2010-05-22', '2010-06-05', '2010-06-10',\n",
    "                 '2010-07-11', '2010-07-25', '2010-08-08', '2010-08-28',\n",
    "                 '2010-09-09', '2010-10-02', '2010-10-15', '2010-10-31',\n",
    "                 '2010-10-05']"
   ]
  },
  {
   "cell_type": "code",
   "execution_count": null,
   "metadata": {
    "collapsed": false
   },
   "outputs": [],
   "source": [
    "# Dummy out home games\n",
    "df['mariners_home'] = df.date.isin(mariners_home).astype(int)\n",
    "df['seahawks_home'] = df.date.isin(seahawks_home).astype(int)\n",
    "df['sounders_home'] = df.date.isin(sounders_home).astype(int)\n",
    "df.head()"
   ]
  },
  {
   "cell_type": "code",
   "execution_count": null,
   "metadata": {
    "collapsed": false
   },
   "outputs": [],
   "source": [
    "# Busy travel times\n",
    "trav_hol = ['2010-11-23', '2010-11-25', '2010-11-26', '2010-12-24', \n",
    "            '2010-12-25', '2010-12-26',\n",
    "            '2011-11-23', '2011-11-24', '2011-11-25', '2011-12-24', \n",
    "            '2011-12-25', '2011-12-26', \n",
    "            '2012-11-21', '2012-11-22', '2012-11-23', '2012-12-24', \n",
    "            '2012-12-25', '2012-12-26',\n",
    "            '2013-11-27', '2013-11-28', '2013-11-29', '2013-12-24', \n",
    "            '2013-12-25', '2013-12-26',\n",
    "            '2014-11-26', '2014-11-27', '2014-11-28', '2014-12-24', \n",
    "            '2014-12-25', '2014-12-26',\n",
    "            '2015-11-25', '2015-11-26', '2015-11-27', '2015-12-24', \n",
    "            '2015-12-25', '2015-12-26',\n",
    "            '2016-11-23', '2016-11-24', '2016-11-25', '2016-12-24', \n",
    "            '2016-12-25', '2016-12-26']\n",
    "\n",
    "# Dangerous holidays are New Years and July 4th\n",
    "dang_hol = ['2010-01-01', '2010-07-04', '2011-01-01', '2011-07-04', \n",
    "            '2012-01-01', '2012-07-04', '2013-01-01', '2013-07-04', \n",
    "            '2014-01-01', '2014-07-04', '2015-01-01', '2015-07-04', \n",
    "            '2016-01-01', '2016-07-04']"
   ]
  },
  {
   "cell_type": "code",
   "execution_count": null,
   "metadata": {
    "collapsed": true
   },
   "outputs": [],
   "source": [
    "# Add holidays\n",
    "df['trav_holiday'] = df.date.isin(trav_hol).astype(int)\n",
    "df['dang_holiday'] = df.date.isin(dang_hol).astype(int)"
   ]
  },
  {
   "cell_type": "code",
   "execution_count": null,
   "metadata": {
    "collapsed": false
   },
   "outputs": [],
   "source": [
    "# Add weekday\n",
    "df['weekday'] = df.Datetime.dt.weekday_name\n",
    "df.head()"
   ]
  },
  {
   "cell_type": "code",
   "execution_count": null,
   "metadata": {
    "collapsed": false
   },
   "outputs": [],
   "source": [
    "# Create night dummy\n",
    "df['night'] = ((df.time < '06:00:00') | (df.time > '18:00:00')).astype(int)\n",
    "\n",
    "# Make dummies of weekdays\n",
    "df_dummies = pd.get_dummies(df.weekday, drop_first=True)\n",
    "df = pd.concat([df, df_dummies], axis=1)\n",
    "df[['Monday', 'Saturday', 'Sunday', 'Thursday', 'Tuesday', 'Wednesday']] = \\\n",
    "df[['Monday', 'Saturday', 'Sunday', 'Thursday', 'Tuesday', 'Wednesday']].astype(int)"
   ]
  },
  {
   "cell_type": "code",
   "execution_count": null,
   "metadata": {
    "collapsed": false
   },
   "outputs": [],
   "source": [
    "df.head()"
   ]
  },
  {
   "cell_type": "code",
   "execution_count": null,
   "metadata": {
    "collapsed": true
   },
   "outputs": [],
   "source": [
    "df.to_csv(\"./data/features_seattle_911_no_dup.csv\")"
   ]
  },
  {
   "cell_type": "code",
   "execution_count": null,
   "metadata": {
    "collapsed": true
   },
   "outputs": [],
   "source": []
  }
 ],
 "metadata": {
  "kernelspec": {
   "display_name": "Python [conda root]",
   "language": "python",
   "name": "conda-root-py"
  },
  "language_info": {
   "codemirror_mode": {
    "name": "ipython",
    "version": 2
   },
   "file_extension": ".py",
   "mimetype": "text/x-python",
   "name": "python",
   "nbconvert_exporter": "python",
   "pygments_lexer": "ipython2",
   "version": "2.7.12"
  }
 },
 "nbformat": 4,
 "nbformat_minor": 1
}

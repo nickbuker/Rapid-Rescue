{
 "cells": [
  {
   "cell_type": "code",
   "execution_count": 162,
   "metadata": {
    "collapsed": true
   },
   "outputs": [],
   "source": [
    "# Import pandas(for making data tables)\n",
    "import pandas as pd\n",
    "import numpy as np\n",
    "from datetime import datetime\n",
    "\n",
    "# Graphing modules\n",
    "import matplotlib.pyplot as plt\n",
    "from matplotlib import cm as cm\n",
    "from matplotlib import mlab as ml\n",
    "import seaborn as sns\n",
    "\n",
    "# MLB Python API tool\n",
    "import mlbgame\n",
    "\n",
    "# Makes plots in notebook\n",
    "%matplotlib inline"
   ]
  },
  {
   "cell_type": "code",
   "execution_count": 163,
   "metadata": {
    "collapsed": false
   },
   "outputs": [
    {
     "name": "stdout",
     "output_type": "stream",
     "text": [
      "<class 'pandas.core.frame.DataFrame'>\n",
      "RangeIndex: 564106 entries, 0 to 564105\n",
      "Data columns (total 11 columns):\n",
      "Address            564097 non-null object\n",
      "Type               564106 non-null object\n",
      "Datetime           564106 non-null datetime64[ns]\n",
      "Latitude           564106 non-null float64\n",
      "Longitude          564106 non-null float64\n",
      "Report Location    524433 non-null object\n",
      "Incident Number    535074 non-null object\n",
      "dt_crop            564106 non-null object\n",
      "date               564106 non-null object\n",
      "time               564106 non-null object\n",
      "date2              564106 non-null object\n",
      "dtypes: datetime64[ns](1), float64(2), object(8)\n",
      "memory usage: 47.3+ MB\n"
     ]
    }
   ],
   "source": [
    "# Load df, drop extra index column, cast to datetime\n",
    "df = pd.read_csv('./data/clean_seattle_911.csv')\n",
    "df.drop(['Unnamed: 0'], axis=1, inplace=True)\n",
    "df.Datetime = pd.to_datetime(df.Datetime)\n",
    "df.info()"
   ]
  },
  {
   "cell_type": "code",
   "execution_count": 164,
   "metadata": {
    "collapsed": true
   },
   "outputs": [],
   "source": [
    "# Get Mariners home games\n",
    "mariners_home = []\n",
    "month = mlbgame.games([2011, 2012, 2013, 2014, 2015, 2016], [1,2,3,4,5,6,7,8,9,10,11,12], home=\"Mariners\")\n",
    "games = mlbgame.combine_games(month)\n",
    "for game in games:\n",
    "    mariners_home.append(str(game.date)[:10])"
   ]
  },
  {
   "cell_type": "code",
   "execution_count": 165,
   "metadata": {
    "collapsed": true
   },
   "outputs": [],
   "source": [
    "# http://www.fbschedules.com/nfl-11/2011-seattle-seahawks-football-schedule.php\n",
    "\n",
    "seahawks_home = ['2016-11-07', '2016-11-20', '2016-12-04', '2016-12-15',\n",
    "                 '2016-12-24', '2016-09-11', '2016-09-25', '2016-10-16',\n",
    "                 '2015-09-27', '2015-10-05', '2015-10-18', '2015-11-15', \n",
    "                 '2015-11-22', '2015-11-29', '2015-12-20', '2015-12-27',\n",
    "                 '2014-09-04', '2014-09-21', '2014-10-12', '2014-11-02',\n",
    "                 '2014-11-09', '2014-11-23', '2014-12-14', '2014-12-28',\n",
    "                 '2015-01-10', '2015-01-18',\n",
    "                 '2013-09-15', '2013-09-22', '2013-10-13', '2013-11-03',\n",
    "                 '2013-11-17', '2013-12-02', '2013-12-22', '2013-12-29',\n",
    "                 '2014-01-11', '2014-01-19',\n",
    "                 '2012-09-16', '2012-09-24', '2012-10-14', '2012-11-04',\n",
    "                 '2012-11-11', '2012-12-09', '2012-12-23', '2012-12-30',\n",
    "                 '2011-09-25', '2011-10-02', '2011-10-30', '2011-11-13',\n",
    "                 '2011-11-27', '2011-12-01', '2011-12-12', '2011-12-24']"
   ]
  },
  {
   "cell_type": "code",
   "execution_count": 166,
   "metadata": {
    "collapsed": true
   },
   "outputs": [],
   "source": [
    "# Sounders home games\n",
    "\n",
    "sounders_home = ['2016-04-30', '2016-05-07', '2016-05-21', '2016-06-25',\n",
    "                 '2018-04-18', '2016-07-09', '2016-07-13', '2016-07-31',\n",
    "                 '2016-08-14', '2016-08-21', '2016-09-17', '2016-09-28',\n",
    "                 '2016-10-12', '2016-10-23', '2016-02-23', '2016-03-08'\n",
    "                 '2016-03-18', '2016-04-02', \n",
    "                 '2015-03-08', '2015-03-14', '2015-04-04', '2015-04-26',\n",
    "                 '2015-05-23', '2015-05-27', '2015-05-31', '2015-06-13',\n",
    "                 '2015-06-20', '2015-07-03', '2015-07-18', '2015-08-01',\n",
    "                 '2015-08-16', '2015-08-30', '2015-09-05', '2015-10-04',\n",
    "                 '2015-10-25',\n",
    "                 '2014-03-08', '2014-03-15', '2014-03-29', '2014-04-26',\n",
    "                 '2014-05-03', '2014-05-07', '2014-05-17', '2014-05-31',\n",
    "                 '2014-07-13', '2014-07-26', '2014-08-10', '2014-08-20',\n",
    "                 '2014-08-20', '2013-09-12', '2014-09-27', '2014-10-10',\n",
    "                 '2014-10-25',\n",
    "                 '2013-03-02', '2013-03-16', '2013-04-13', '2013-05-11',\n",
    "                 '2013-05-18', '2013-06-08', '2013-07-03', '2013-07-20',\n",
    "                 '2013-07-28', '2013-08-03', '2013-08-25', '2013-09-04',\n",
    "                 '2013-09-07', '2013-09-13', '2013-09-29', '2013-10-09',\n",
    "                 '2013-10-27',\n",
    "                 '2012-03-17', '2012-03-23', '2012-03-31', '2012-04-14',\n",
    "                 '2012-05-02', '2012-05-05', '2012-05-12', '2012-05-23',\n",
    "                 '2012-06-20', '2012-07-07', '2012-08-05', '2012-08-18',\n",
    "                 '2012-09-08', '2012-10-07', '2012-10-17', '2012-10-21',\n",
    "                 '2012-09-22']"
   ]
  },
  {
   "cell_type": "code",
   "execution_count": 167,
   "metadata": {
    "collapsed": false
   },
   "outputs": [
    {
     "data": {
      "text/html": [
       "<div>\n",
       "<table border=\"1\" class=\"dataframe\">\n",
       "  <thead>\n",
       "    <tr style=\"text-align: right;\">\n",
       "      <th></th>\n",
       "      <th>Address</th>\n",
       "      <th>Type</th>\n",
       "      <th>Datetime</th>\n",
       "      <th>Latitude</th>\n",
       "      <th>Longitude</th>\n",
       "      <th>Report Location</th>\n",
       "      <th>Incident Number</th>\n",
       "      <th>dt_crop</th>\n",
       "      <th>date</th>\n",
       "      <th>time</th>\n",
       "      <th>date2</th>\n",
       "      <th>mariners_home</th>\n",
       "      <th>seahawks_home</th>\n",
       "      <th>sounders_home</th>\n",
       "    </tr>\n",
       "  </thead>\n",
       "  <tbody>\n",
       "    <tr>\n",
       "      <th>0</th>\n",
       "      <td>6900 37th Av S</td>\n",
       "      <td>Medic Response</td>\n",
       "      <td>2011-11-09 23:33:00</td>\n",
       "      <td>47.540683</td>\n",
       "      <td>-122.286131</td>\n",
       "      <td>(47.540683, -122.286131)</td>\n",
       "      <td>F110104166</td>\n",
       "      <td>11/09/2011 11:33:00 PM</td>\n",
       "      <td>2011-11-09</td>\n",
       "      <td>0 days 23:33:00.000000000</td>\n",
       "      <td>2011-11-09 00:00:00</td>\n",
       "      <td>0</td>\n",
       "      <td>0</td>\n",
       "      <td>0</td>\n",
       "    </tr>\n",
       "    <tr>\n",
       "      <th>1</th>\n",
       "      <td>N 50th St / Stone Way N</td>\n",
       "      <td>Aid Response</td>\n",
       "      <td>2011-11-09 23:32:00</td>\n",
       "      <td>47.665034</td>\n",
       "      <td>-122.340207</td>\n",
       "      <td>(47.665034, -122.340207)</td>\n",
       "      <td>F110104164</td>\n",
       "      <td>11/09/2011 11:32:00 PM</td>\n",
       "      <td>2011-11-09</td>\n",
       "      <td>0 days 23:32:00.000000000</td>\n",
       "      <td>2011-11-09 00:00:00</td>\n",
       "      <td>0</td>\n",
       "      <td>0</td>\n",
       "      <td>0</td>\n",
       "    </tr>\n",
       "    <tr>\n",
       "      <th>2</th>\n",
       "      <td>E John St / E Olive Way</td>\n",
       "      <td>Aid Response</td>\n",
       "      <td>2011-11-09 23:32:00</td>\n",
       "      <td>47.619575</td>\n",
       "      <td>-122.324257</td>\n",
       "      <td>(47.619575, -122.324257)</td>\n",
       "      <td>F110104165</td>\n",
       "      <td>11/09/2011 11:32:00 PM</td>\n",
       "      <td>2011-11-09</td>\n",
       "      <td>0 days 23:32:00.000000000</td>\n",
       "      <td>2011-11-09 00:00:00</td>\n",
       "      <td>0</td>\n",
       "      <td>0</td>\n",
       "      <td>0</td>\n",
       "    </tr>\n",
       "    <tr>\n",
       "      <th>3</th>\n",
       "      <td>611 12th Av S</td>\n",
       "      <td>Aid Response</td>\n",
       "      <td>2011-11-09 23:29:00</td>\n",
       "      <td>47.597406</td>\n",
       "      <td>-122.317228</td>\n",
       "      <td>(47.597406, -122.317228)</td>\n",
       "      <td>F110104162</td>\n",
       "      <td>11/09/2011 11:29:00 PM</td>\n",
       "      <td>2011-11-09</td>\n",
       "      <td>0 days 23:29:00.000000000</td>\n",
       "      <td>2011-11-09 00:00:00</td>\n",
       "      <td>0</td>\n",
       "      <td>0</td>\n",
       "      <td>0</td>\n",
       "    </tr>\n",
       "    <tr>\n",
       "      <th>4</th>\n",
       "      <td>4545 42nd Av Sw</td>\n",
       "      <td>Automatic Medical Alarm</td>\n",
       "      <td>2011-11-09 23:25:00</td>\n",
       "      <td>47.562472</td>\n",
       "      <td>-122.385455</td>\n",
       "      <td>(47.562472, -122.385455)</td>\n",
       "      <td>F110104161</td>\n",
       "      <td>11/09/2011 11:25:00 PM</td>\n",
       "      <td>2011-11-09</td>\n",
       "      <td>0 days 23:25:00.000000000</td>\n",
       "      <td>2011-11-09 00:00:00</td>\n",
       "      <td>0</td>\n",
       "      <td>0</td>\n",
       "      <td>0</td>\n",
       "    </tr>\n",
       "  </tbody>\n",
       "</table>\n",
       "</div>"
      ],
      "text/plain": [
       "                   Address                     Type            Datetime  \\\n",
       "0           6900 37th Av S           Medic Response 2011-11-09 23:33:00   \n",
       "1  N 50th St / Stone Way N             Aid Response 2011-11-09 23:32:00   \n",
       "2  E John St / E Olive Way             Aid Response 2011-11-09 23:32:00   \n",
       "3            611 12th Av S             Aid Response 2011-11-09 23:29:00   \n",
       "4          4545 42nd Av Sw  Automatic Medical Alarm 2011-11-09 23:25:00   \n",
       "\n",
       "    Latitude   Longitude           Report Location Incident Number  \\\n",
       "0  47.540683 -122.286131  (47.540683, -122.286131)      F110104166   \n",
       "1  47.665034 -122.340207  (47.665034, -122.340207)      F110104164   \n",
       "2  47.619575 -122.324257  (47.619575, -122.324257)      F110104165   \n",
       "3  47.597406 -122.317228  (47.597406, -122.317228)      F110104162   \n",
       "4  47.562472 -122.385455  (47.562472, -122.385455)      F110104161   \n",
       "\n",
       "                  dt_crop        date                       time  \\\n",
       "0  11/09/2011 11:33:00 PM  2011-11-09  0 days 23:33:00.000000000   \n",
       "1  11/09/2011 11:32:00 PM  2011-11-09  0 days 23:32:00.000000000   \n",
       "2  11/09/2011 11:32:00 PM  2011-11-09  0 days 23:32:00.000000000   \n",
       "3  11/09/2011 11:29:00 PM  2011-11-09  0 days 23:29:00.000000000   \n",
       "4  11/09/2011 11:25:00 PM  2011-11-09  0 days 23:25:00.000000000   \n",
       "\n",
       "                 date2  mariners_home  seahawks_home  sounders_home  \n",
       "0  2011-11-09 00:00:00              0              0              0  \n",
       "1  2011-11-09 00:00:00              0              0              0  \n",
       "2  2011-11-09 00:00:00              0              0              0  \n",
       "3  2011-11-09 00:00:00              0              0              0  \n",
       "4  2011-11-09 00:00:00              0              0              0  "
      ]
     },
     "execution_count": 167,
     "metadata": {},
     "output_type": "execute_result"
    }
   ],
   "source": [
    "# Dummy out home games\n",
    "df['mariners_home'] = df.date.isin(mariners_home).astype(int)\n",
    "df['seahawks_home'] = df.date.isin(seahawks_home).astype(int)\n",
    "df['sounders_home'] = df.date.isin(sounders_home).astype(int)\n",
    "df.head()"
   ]
  },
  {
   "cell_type": "code",
   "execution_count": 168,
   "metadata": {
    "collapsed": false
   },
   "outputs": [
    {
     "data": {
      "text/html": [
       "<div>\n",
       "<table border=\"1\" class=\"dataframe\">\n",
       "  <thead>\n",
       "    <tr style=\"text-align: right;\">\n",
       "      <th></th>\n",
       "      <th>Address</th>\n",
       "      <th>Type</th>\n",
       "      <th>Datetime</th>\n",
       "      <th>Latitude</th>\n",
       "      <th>Longitude</th>\n",
       "      <th>Report Location</th>\n",
       "      <th>Incident Number</th>\n",
       "      <th>dt_crop</th>\n",
       "      <th>date</th>\n",
       "      <th>time</th>\n",
       "      <th>date2</th>\n",
       "      <th>mariners_home</th>\n",
       "      <th>seahawks_home</th>\n",
       "      <th>sounders_home</th>\n",
       "      <th>weekday</th>\n",
       "    </tr>\n",
       "  </thead>\n",
       "  <tbody>\n",
       "    <tr>\n",
       "      <th>0</th>\n",
       "      <td>6900 37th Av S</td>\n",
       "      <td>Medic Response</td>\n",
       "      <td>2011-11-09 23:33:00</td>\n",
       "      <td>47.540683</td>\n",
       "      <td>-122.286131</td>\n",
       "      <td>(47.540683, -122.286131)</td>\n",
       "      <td>F110104166</td>\n",
       "      <td>11/09/2011 11:33:00 PM</td>\n",
       "      <td>2011-11-09</td>\n",
       "      <td>0 days 23:33:00.000000000</td>\n",
       "      <td>2011-11-09 00:00:00</td>\n",
       "      <td>0</td>\n",
       "      <td>0</td>\n",
       "      <td>0</td>\n",
       "      <td>Wednesday</td>\n",
       "    </tr>\n",
       "    <tr>\n",
       "      <th>1</th>\n",
       "      <td>N 50th St / Stone Way N</td>\n",
       "      <td>Aid Response</td>\n",
       "      <td>2011-11-09 23:32:00</td>\n",
       "      <td>47.665034</td>\n",
       "      <td>-122.340207</td>\n",
       "      <td>(47.665034, -122.340207)</td>\n",
       "      <td>F110104164</td>\n",
       "      <td>11/09/2011 11:32:00 PM</td>\n",
       "      <td>2011-11-09</td>\n",
       "      <td>0 days 23:32:00.000000000</td>\n",
       "      <td>2011-11-09 00:00:00</td>\n",
       "      <td>0</td>\n",
       "      <td>0</td>\n",
       "      <td>0</td>\n",
       "      <td>Wednesday</td>\n",
       "    </tr>\n",
       "    <tr>\n",
       "      <th>2</th>\n",
       "      <td>E John St / E Olive Way</td>\n",
       "      <td>Aid Response</td>\n",
       "      <td>2011-11-09 23:32:00</td>\n",
       "      <td>47.619575</td>\n",
       "      <td>-122.324257</td>\n",
       "      <td>(47.619575, -122.324257)</td>\n",
       "      <td>F110104165</td>\n",
       "      <td>11/09/2011 11:32:00 PM</td>\n",
       "      <td>2011-11-09</td>\n",
       "      <td>0 days 23:32:00.000000000</td>\n",
       "      <td>2011-11-09 00:00:00</td>\n",
       "      <td>0</td>\n",
       "      <td>0</td>\n",
       "      <td>0</td>\n",
       "      <td>Wednesday</td>\n",
       "    </tr>\n",
       "    <tr>\n",
       "      <th>3</th>\n",
       "      <td>611 12th Av S</td>\n",
       "      <td>Aid Response</td>\n",
       "      <td>2011-11-09 23:29:00</td>\n",
       "      <td>47.597406</td>\n",
       "      <td>-122.317228</td>\n",
       "      <td>(47.597406, -122.317228)</td>\n",
       "      <td>F110104162</td>\n",
       "      <td>11/09/2011 11:29:00 PM</td>\n",
       "      <td>2011-11-09</td>\n",
       "      <td>0 days 23:29:00.000000000</td>\n",
       "      <td>2011-11-09 00:00:00</td>\n",
       "      <td>0</td>\n",
       "      <td>0</td>\n",
       "      <td>0</td>\n",
       "      <td>Wednesday</td>\n",
       "    </tr>\n",
       "    <tr>\n",
       "      <th>4</th>\n",
       "      <td>4545 42nd Av Sw</td>\n",
       "      <td>Automatic Medical Alarm</td>\n",
       "      <td>2011-11-09 23:25:00</td>\n",
       "      <td>47.562472</td>\n",
       "      <td>-122.385455</td>\n",
       "      <td>(47.562472, -122.385455)</td>\n",
       "      <td>F110104161</td>\n",
       "      <td>11/09/2011 11:25:00 PM</td>\n",
       "      <td>2011-11-09</td>\n",
       "      <td>0 days 23:25:00.000000000</td>\n",
       "      <td>2011-11-09 00:00:00</td>\n",
       "      <td>0</td>\n",
       "      <td>0</td>\n",
       "      <td>0</td>\n",
       "      <td>Wednesday</td>\n",
       "    </tr>\n",
       "  </tbody>\n",
       "</table>\n",
       "</div>"
      ],
      "text/plain": [
       "                   Address                     Type            Datetime  \\\n",
       "0           6900 37th Av S           Medic Response 2011-11-09 23:33:00   \n",
       "1  N 50th St / Stone Way N             Aid Response 2011-11-09 23:32:00   \n",
       "2  E John St / E Olive Way             Aid Response 2011-11-09 23:32:00   \n",
       "3            611 12th Av S             Aid Response 2011-11-09 23:29:00   \n",
       "4          4545 42nd Av Sw  Automatic Medical Alarm 2011-11-09 23:25:00   \n",
       "\n",
       "    Latitude   Longitude           Report Location Incident Number  \\\n",
       "0  47.540683 -122.286131  (47.540683, -122.286131)      F110104166   \n",
       "1  47.665034 -122.340207  (47.665034, -122.340207)      F110104164   \n",
       "2  47.619575 -122.324257  (47.619575, -122.324257)      F110104165   \n",
       "3  47.597406 -122.317228  (47.597406, -122.317228)      F110104162   \n",
       "4  47.562472 -122.385455  (47.562472, -122.385455)      F110104161   \n",
       "\n",
       "                  dt_crop        date                       time  \\\n",
       "0  11/09/2011 11:33:00 PM  2011-11-09  0 days 23:33:00.000000000   \n",
       "1  11/09/2011 11:32:00 PM  2011-11-09  0 days 23:32:00.000000000   \n",
       "2  11/09/2011 11:32:00 PM  2011-11-09  0 days 23:32:00.000000000   \n",
       "3  11/09/2011 11:29:00 PM  2011-11-09  0 days 23:29:00.000000000   \n",
       "4  11/09/2011 11:25:00 PM  2011-11-09  0 days 23:25:00.000000000   \n",
       "\n",
       "                 date2  mariners_home  seahawks_home  sounders_home    weekday  \n",
       "0  2011-11-09 00:00:00              0              0              0  Wednesday  \n",
       "1  2011-11-09 00:00:00              0              0              0  Wednesday  \n",
       "2  2011-11-09 00:00:00              0              0              0  Wednesday  \n",
       "3  2011-11-09 00:00:00              0              0              0  Wednesday  \n",
       "4  2011-11-09 00:00:00              0              0              0  Wednesday  "
      ]
     },
     "execution_count": 168,
     "metadata": {},
     "output_type": "execute_result"
    }
   ],
   "source": [
    "# Add weekday\n",
    "df['weekday'] = df.Datetime.dt.weekday_name\n",
    "df.head()"
   ]
  },
  {
   "cell_type": "code",
   "execution_count": null,
   "metadata": {
    "collapsed": true
   },
   "outputs": [],
   "source": []
  },
  {
   "cell_type": "code",
   "execution_count": null,
   "metadata": {
    "collapsed": true
   },
   "outputs": [],
   "source": []
  },
  {
   "cell_type": "code",
   "execution_count": null,
   "metadata": {
    "collapsed": true
   },
   "outputs": [],
   "source": []
  },
  {
   "cell_type": "code",
   "execution_count": null,
   "metadata": {
    "collapsed": true
   },
   "outputs": [],
   "source": []
  },
  {
   "cell_type": "code",
   "execution_count": null,
   "metadata": {
    "collapsed": true
   },
   "outputs": [],
   "source": []
  },
  {
   "cell_type": "code",
   "execution_count": null,
   "metadata": {
    "collapsed": true
   },
   "outputs": [],
   "source": []
  },
  {
   "cell_type": "code",
   "execution_count": null,
   "metadata": {
    "collapsed": true
   },
   "outputs": [],
   "source": []
  },
  {
   "cell_type": "code",
   "execution_count": null,
   "metadata": {
    "collapsed": true
   },
   "outputs": [],
   "source": []
  },
  {
   "cell_type": "code",
   "execution_count": null,
   "metadata": {
    "collapsed": true
   },
   "outputs": [],
   "source": []
  },
  {
   "cell_type": "code",
   "execution_count": null,
   "metadata": {
    "collapsed": true
   },
   "outputs": [],
   "source": [
    "df.to_csv(\"./data/dummies_seattle_911.csv\")"
   ]
  }
 ],
 "metadata": {
  "kernelspec": {
   "display_name": "Python [conda root]",
   "language": "python",
   "name": "conda-root-py"
  },
  "language_info": {
   "codemirror_mode": {
    "name": "ipython",
    "version": 2
   },
   "file_extension": ".py",
   "mimetype": "text/x-python",
   "name": "python",
   "nbconvert_exporter": "python",
   "pygments_lexer": "ipython2",
   "version": "2.7.12"
  }
 },
 "nbformat": 4,
 "nbformat_minor": 1
}

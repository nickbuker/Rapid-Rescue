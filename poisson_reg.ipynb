{
 "cells": [
  {
   "cell_type": "code",
   "execution_count": 18,
   "metadata": {
    "collapsed": true
   },
   "outputs": [],
   "source": [
    "import pandas as pd\n",
    "import numpy as np\n",
    "import statsmodels.api as sm\n",
    "from statsmodels.discrete.discrete_model import Poisson\n",
    "from sklearn.preprocessing import StandardScaler\n",
    "from sklearn.metrics import mean_squared_error\n",
    "import matplotlib.pyplot as plt\n",
    "\n",
    "from sklearn.ensemble import GradientBoostingRegressor, RandomForestRegressor\n",
    "\n",
    "% matplotlib inline"
   ]
  },
  {
   "cell_type": "code",
   "execution_count": 2,
   "metadata": {
    "collapsed": true
   },
   "outputs": [],
   "source": [
    "# Create a Dataframe and drop extra column\n",
    "df = pd.read_csv('./data/features_seattle_911_no_dup_hoods.csv', low_memory=False)\n",
    "df.drop(['Unnamed: 0'], axis=1, inplace=True)"
   ]
  },
  {
   "cell_type": "code",
   "execution_count": 6,
   "metadata": {
    "collapsed": false
   },
   "outputs": [
    {
     "data": {
      "text/html": [
       "<div>\n",
       "<table border=\"1\" class=\"dataframe\">\n",
       "  <thead>\n",
       "    <tr style=\"text-align: right;\">\n",
       "      <th></th>\n",
       "      <th>Address</th>\n",
       "      <th>Type</th>\n",
       "      <th>Datetime</th>\n",
       "      <th>Latitude</th>\n",
       "      <th>Longitude</th>\n",
       "      <th>Report Location</th>\n",
       "      <th>Incident Number</th>\n",
       "      <th>dt_crop</th>\n",
       "      <th>date</th>\n",
       "      <th>time</th>\n",
       "      <th>...</th>\n",
       "      <th>Wednesday</th>\n",
       "      <th>day_num</th>\n",
       "      <th>neighborhood</th>\n",
       "      <th>zone1</th>\n",
       "      <th>zone2</th>\n",
       "      <th>zone3</th>\n",
       "      <th>zone4</th>\n",
       "      <th>zone5</th>\n",
       "      <th>zone6</th>\n",
       "      <th>zone7</th>\n",
       "    </tr>\n",
       "  </thead>\n",
       "  <tbody>\n",
       "    <tr>\n",
       "      <th>0</th>\n",
       "      <td>6900 37th Av S</td>\n",
       "      <td>Medic Response</td>\n",
       "      <td>2011-11-09 23:33:00</td>\n",
       "      <td>47.540683</td>\n",
       "      <td>-122.286131</td>\n",
       "      <td>(47.540683, -122.286131)</td>\n",
       "      <td>F110104166</td>\n",
       "      <td>11/09/2011 11:33:00 PM</td>\n",
       "      <td>2011-11-09</td>\n",
       "      <td>23:33:00</td>\n",
       "      <td>...</td>\n",
       "      <td>1</td>\n",
       "      <td>498</td>\n",
       "      <td>Holly Park</td>\n",
       "      <td>0</td>\n",
       "      <td>0</td>\n",
       "      <td>0</td>\n",
       "      <td>0</td>\n",
       "      <td>0</td>\n",
       "      <td>0</td>\n",
       "      <td>1</td>\n",
       "    </tr>\n",
       "    <tr>\n",
       "      <th>1</th>\n",
       "      <td>N 50th St / Stone Way N</td>\n",
       "      <td>Aid Response</td>\n",
       "      <td>2011-11-09 23:32:00</td>\n",
       "      <td>47.665034</td>\n",
       "      <td>-122.340207</td>\n",
       "      <td>(47.665034, -122.340207)</td>\n",
       "      <td>F110104164</td>\n",
       "      <td>11/09/2011 11:32:00 PM</td>\n",
       "      <td>2011-11-09</td>\n",
       "      <td>23:32:00</td>\n",
       "      <td>...</td>\n",
       "      <td>1</td>\n",
       "      <td>498</td>\n",
       "      <td>Wallingford</td>\n",
       "      <td>1</td>\n",
       "      <td>0</td>\n",
       "      <td>0</td>\n",
       "      <td>0</td>\n",
       "      <td>0</td>\n",
       "      <td>0</td>\n",
       "      <td>0</td>\n",
       "    </tr>\n",
       "    <tr>\n",
       "      <th>2</th>\n",
       "      <td>E John St / E Olive Way</td>\n",
       "      <td>Aid Response</td>\n",
       "      <td>2011-11-09 23:32:00</td>\n",
       "      <td>47.619575</td>\n",
       "      <td>-122.324257</td>\n",
       "      <td>(47.619575, -122.324257)</td>\n",
       "      <td>F110104165</td>\n",
       "      <td>11/09/2011 11:32:00 PM</td>\n",
       "      <td>2011-11-09</td>\n",
       "      <td>23:32:00</td>\n",
       "      <td>...</td>\n",
       "      <td>1</td>\n",
       "      <td>498</td>\n",
       "      <td>Broadway</td>\n",
       "      <td>0</td>\n",
       "      <td>0</td>\n",
       "      <td>0</td>\n",
       "      <td>1</td>\n",
       "      <td>0</td>\n",
       "      <td>0</td>\n",
       "      <td>0</td>\n",
       "    </tr>\n",
       "    <tr>\n",
       "      <th>3</th>\n",
       "      <td>611 12th Av S</td>\n",
       "      <td>Aid Response</td>\n",
       "      <td>2011-11-09 23:29:00</td>\n",
       "      <td>47.597406</td>\n",
       "      <td>-122.317228</td>\n",
       "      <td>(47.597406, -122.317228)</td>\n",
       "      <td>F110104162</td>\n",
       "      <td>11/09/2011 11:29:00 PM</td>\n",
       "      <td>2011-11-09</td>\n",
       "      <td>23:29:00</td>\n",
       "      <td>...</td>\n",
       "      <td>1</td>\n",
       "      <td>498</td>\n",
       "      <td>International District</td>\n",
       "      <td>0</td>\n",
       "      <td>0</td>\n",
       "      <td>0</td>\n",
       "      <td>0</td>\n",
       "      <td>1</td>\n",
       "      <td>0</td>\n",
       "      <td>0</td>\n",
       "    </tr>\n",
       "    <tr>\n",
       "      <th>4</th>\n",
       "      <td>4545 42nd Av Sw</td>\n",
       "      <td>Automatic Medical Alarm</td>\n",
       "      <td>2011-11-09 23:25:00</td>\n",
       "      <td>47.562472</td>\n",
       "      <td>-122.385455</td>\n",
       "      <td>(47.562472, -122.385455)</td>\n",
       "      <td>F110104161</td>\n",
       "      <td>11/09/2011 11:25:00 PM</td>\n",
       "      <td>2011-11-09</td>\n",
       "      <td>23:25:00</td>\n",
       "      <td>...</td>\n",
       "      <td>1</td>\n",
       "      <td>498</td>\n",
       "      <td>Genesee</td>\n",
       "      <td>0</td>\n",
       "      <td>0</td>\n",
       "      <td>0</td>\n",
       "      <td>0</td>\n",
       "      <td>0</td>\n",
       "      <td>1</td>\n",
       "      <td>0</td>\n",
       "    </tr>\n",
       "  </tbody>\n",
       "</table>\n",
       "<p>5 rows × 34 columns</p>\n",
       "</div>"
      ],
      "text/plain": [
       "                   Address                     Type             Datetime  \\\n",
       "0           6900 37th Av S           Medic Response  2011-11-09 23:33:00   \n",
       "1  N 50th St / Stone Way N             Aid Response  2011-11-09 23:32:00   \n",
       "2  E John St / E Olive Way             Aid Response  2011-11-09 23:32:00   \n",
       "3            611 12th Av S             Aid Response  2011-11-09 23:29:00   \n",
       "4          4545 42nd Av Sw  Automatic Medical Alarm  2011-11-09 23:25:00   \n",
       "\n",
       "    Latitude   Longitude           Report Location Incident Number  \\\n",
       "0  47.540683 -122.286131  (47.540683, -122.286131)      F110104166   \n",
       "1  47.665034 -122.340207  (47.665034, -122.340207)      F110104164   \n",
       "2  47.619575 -122.324257  (47.619575, -122.324257)      F110104165   \n",
       "3  47.597406 -122.317228  (47.597406, -122.317228)      F110104162   \n",
       "4  47.562472 -122.385455  (47.562472, -122.385455)      F110104161   \n",
       "\n",
       "                  dt_crop        date      time  ...   Wednesday day_num  \\\n",
       "0  11/09/2011 11:33:00 PM  2011-11-09  23:33:00  ...           1     498   \n",
       "1  11/09/2011 11:32:00 PM  2011-11-09  23:32:00  ...           1     498   \n",
       "2  11/09/2011 11:32:00 PM  2011-11-09  23:32:00  ...           1     498   \n",
       "3  11/09/2011 11:29:00 PM  2011-11-09  23:29:00  ...           1     498   \n",
       "4  11/09/2011 11:25:00 PM  2011-11-09  23:25:00  ...           1     498   \n",
       "\n",
       "             neighborhood  zone1  zone2  zone3  zone4 zone5  zone6  zone7  \n",
       "0              Holly Park      0      0      0      0     0      0      1  \n",
       "1             Wallingford      1      0      0      0     0      0      0  \n",
       "2                Broadway      0      0      0      1     0      0      0  \n",
       "3  International District      0      0      0      0     1      0      0  \n",
       "4                 Genesee      0      0      0      0     0      1      0  \n",
       "\n",
       "[5 rows x 34 columns]"
      ]
     },
     "execution_count": 6,
     "metadata": {},
     "output_type": "execute_result"
    }
   ],
   "source": [
    "df.head()"
   ]
  },
  {
   "cell_type": "code",
   "execution_count": 25,
   "metadata": {
    "collapsed": false
   },
   "outputs": [
    {
     "data": {
      "text/html": [
       "<div>\n",
       "<table border=\"1\" class=\"dataframe\">\n",
       "  <thead>\n",
       "    <tr style=\"text-align: right;\">\n",
       "      <th></th>\n",
       "      <th>mariners_home</th>\n",
       "      <th>seahawks_home</th>\n",
       "      <th>sounders_home</th>\n",
       "      <th>trav_holiday</th>\n",
       "      <th>dang_holiday</th>\n",
       "      <th>night</th>\n",
       "      <th>Monday</th>\n",
       "      <th>Saturday</th>\n",
       "      <th>Sunday</th>\n",
       "      <th>Thursday</th>\n",
       "      <th>Tuesday</th>\n",
       "      <th>Wednesday</th>\n",
       "      <th>day_num</th>\n",
       "      <th>zone1</th>\n",
       "      <th>zone2</th>\n",
       "      <th>zone3</th>\n",
       "      <th>zone4</th>\n",
       "      <th>zone5</th>\n",
       "      <th>zone6</th>\n",
       "      <th>zone7</th>\n",
       "    </tr>\n",
       "  </thead>\n",
       "  <tbody>\n",
       "    <tr>\n",
       "      <th>0</th>\n",
       "      <td>0</td>\n",
       "      <td>0</td>\n",
       "      <td>0</td>\n",
       "      <td>0</td>\n",
       "      <td>0</td>\n",
       "      <td>1</td>\n",
       "      <td>0</td>\n",
       "      <td>0</td>\n",
       "      <td>0</td>\n",
       "      <td>0</td>\n",
       "      <td>0</td>\n",
       "      <td>1</td>\n",
       "      <td>498</td>\n",
       "      <td>0</td>\n",
       "      <td>0</td>\n",
       "      <td>0</td>\n",
       "      <td>0</td>\n",
       "      <td>0</td>\n",
       "      <td>0</td>\n",
       "      <td>1</td>\n",
       "    </tr>\n",
       "    <tr>\n",
       "      <th>1</th>\n",
       "      <td>0</td>\n",
       "      <td>0</td>\n",
       "      <td>0</td>\n",
       "      <td>0</td>\n",
       "      <td>0</td>\n",
       "      <td>1</td>\n",
       "      <td>0</td>\n",
       "      <td>0</td>\n",
       "      <td>0</td>\n",
       "      <td>0</td>\n",
       "      <td>0</td>\n",
       "      <td>1</td>\n",
       "      <td>498</td>\n",
       "      <td>1</td>\n",
       "      <td>0</td>\n",
       "      <td>0</td>\n",
       "      <td>0</td>\n",
       "      <td>0</td>\n",
       "      <td>0</td>\n",
       "      <td>0</td>\n",
       "    </tr>\n",
       "    <tr>\n",
       "      <th>2</th>\n",
       "      <td>0</td>\n",
       "      <td>0</td>\n",
       "      <td>0</td>\n",
       "      <td>0</td>\n",
       "      <td>0</td>\n",
       "      <td>1</td>\n",
       "      <td>0</td>\n",
       "      <td>0</td>\n",
       "      <td>0</td>\n",
       "      <td>0</td>\n",
       "      <td>0</td>\n",
       "      <td>1</td>\n",
       "      <td>498</td>\n",
       "      <td>0</td>\n",
       "      <td>0</td>\n",
       "      <td>0</td>\n",
       "      <td>1</td>\n",
       "      <td>0</td>\n",
       "      <td>0</td>\n",
       "      <td>0</td>\n",
       "    </tr>\n",
       "    <tr>\n",
       "      <th>3</th>\n",
       "      <td>0</td>\n",
       "      <td>0</td>\n",
       "      <td>0</td>\n",
       "      <td>0</td>\n",
       "      <td>0</td>\n",
       "      <td>1</td>\n",
       "      <td>0</td>\n",
       "      <td>0</td>\n",
       "      <td>0</td>\n",
       "      <td>0</td>\n",
       "      <td>0</td>\n",
       "      <td>1</td>\n",
       "      <td>498</td>\n",
       "      <td>0</td>\n",
       "      <td>0</td>\n",
       "      <td>0</td>\n",
       "      <td>0</td>\n",
       "      <td>1</td>\n",
       "      <td>0</td>\n",
       "      <td>0</td>\n",
       "    </tr>\n",
       "    <tr>\n",
       "      <th>4</th>\n",
       "      <td>0</td>\n",
       "      <td>0</td>\n",
       "      <td>0</td>\n",
       "      <td>0</td>\n",
       "      <td>0</td>\n",
       "      <td>1</td>\n",
       "      <td>0</td>\n",
       "      <td>0</td>\n",
       "      <td>0</td>\n",
       "      <td>0</td>\n",
       "      <td>0</td>\n",
       "      <td>1</td>\n",
       "      <td>498</td>\n",
       "      <td>0</td>\n",
       "      <td>0</td>\n",
       "      <td>0</td>\n",
       "      <td>0</td>\n",
       "      <td>0</td>\n",
       "      <td>1</td>\n",
       "      <td>0</td>\n",
       "    </tr>\n",
       "  </tbody>\n",
       "</table>\n",
       "</div>"
      ],
      "text/plain": [
       "   mariners_home  seahawks_home  sounders_home  trav_holiday  dang_holiday  \\\n",
       "0              0              0              0             0             0   \n",
       "1              0              0              0             0             0   \n",
       "2              0              0              0             0             0   \n",
       "3              0              0              0             0             0   \n",
       "4              0              0              0             0             0   \n",
       "\n",
       "   night  Monday  Saturday  Sunday  Thursday  Tuesday  Wednesday  day_num  \\\n",
       "0      1       0         0       0         0        0          1      498   \n",
       "1      1       0         0       0         0        0          1      498   \n",
       "2      1       0         0       0         0        0          1      498   \n",
       "3      1       0         0       0         0        0          1      498   \n",
       "4      1       0         0       0         0        0          1      498   \n",
       "\n",
       "   zone1  zone2  zone3  zone4  zone5  zone6  zone7  \n",
       "0      0      0      0      0      0      0      1  \n",
       "1      1      0      0      0      0      0      0  \n",
       "2      0      0      0      1      0      0      0  \n",
       "3      0      0      0      0      1      0      0  \n",
       "4      0      0      0      0      0      1      0  "
      ]
     },
     "execution_count": 25,
     "metadata": {},
     "output_type": "execute_result"
    }
   ],
   "source": [
    "df2 = df.drop(labels=(['Address', 'Type', 'Report Location', 'Incident Number',\n",
    "                 'dt_crop', 'neighborhood', 'date2', 'time2', 'weekday',\n",
    "                 'Latitude', 'Longitude', 'time', 'Datetime', 'date']), axis=1)\n",
    "df2.head()"
   ]
  },
  {
   "cell_type": "code",
   "execution_count": 26,
   "metadata": {
    "collapsed": false
   },
   "outputs": [],
   "source": [
    "df2.to_csv('./data/model_data.csv')"
   ]
  },
  {
   "cell_type": "code",
   "execution_count": 2,
   "metadata": {
    "collapsed": false
   },
   "outputs": [],
   "source": [
    "# R used to fix dataframe for Poisson model\n",
    "df3 = pd.read_csv('./data/model_data_counted.csv', low_memory=False)\n",
    "df3.drop(['Unnamed: 0'], axis=1, inplace=True)"
   ]
  },
  {
   "cell_type": "code",
   "execution_count": 12,
   "metadata": {
    "collapsed": false
   },
   "outputs": [
    {
     "data": {
      "text/html": [
       "<div>\n",
       "<table border=\"1\" class=\"dataframe\">\n",
       "  <thead>\n",
       "    <tr style=\"text-align: right;\">\n",
       "      <th></th>\n",
       "      <th>mariners_home</th>\n",
       "      <th>seahawks_home</th>\n",
       "      <th>sounders_home</th>\n",
       "      <th>trav_holiday</th>\n",
       "      <th>dang_holiday</th>\n",
       "      <th>night</th>\n",
       "      <th>Monday</th>\n",
       "      <th>Saturday</th>\n",
       "      <th>Sunday</th>\n",
       "      <th>Thursday</th>\n",
       "      <th>...</th>\n",
       "      <th>Wednesday</th>\n",
       "      <th>day_num</th>\n",
       "      <th>zone1</th>\n",
       "      <th>zone2</th>\n",
       "      <th>zone3</th>\n",
       "      <th>zone4</th>\n",
       "      <th>zone5</th>\n",
       "      <th>zone6</th>\n",
       "      <th>zone7</th>\n",
       "      <th>freq</th>\n",
       "    </tr>\n",
       "  </thead>\n",
       "  <tbody>\n",
       "    <tr>\n",
       "      <th>0</th>\n",
       "      <td>0</td>\n",
       "      <td>0</td>\n",
       "      <td>0</td>\n",
       "      <td>0</td>\n",
       "      <td>0</td>\n",
       "      <td>0</td>\n",
       "      <td>0</td>\n",
       "      <td>0</td>\n",
       "      <td>0</td>\n",
       "      <td>0</td>\n",
       "      <td>...</td>\n",
       "      <td>0</td>\n",
       "      <td>3</td>\n",
       "      <td>0</td>\n",
       "      <td>0</td>\n",
       "      <td>0</td>\n",
       "      <td>0</td>\n",
       "      <td>0</td>\n",
       "      <td>0</td>\n",
       "      <td>0</td>\n",
       "      <td>3</td>\n",
       "    </tr>\n",
       "    <tr>\n",
       "      <th>1</th>\n",
       "      <td>0</td>\n",
       "      <td>0</td>\n",
       "      <td>0</td>\n",
       "      <td>0</td>\n",
       "      <td>0</td>\n",
       "      <td>0</td>\n",
       "      <td>0</td>\n",
       "      <td>0</td>\n",
       "      <td>0</td>\n",
       "      <td>0</td>\n",
       "      <td>...</td>\n",
       "      <td>0</td>\n",
       "      <td>3</td>\n",
       "      <td>0</td>\n",
       "      <td>0</td>\n",
       "      <td>0</td>\n",
       "      <td>0</td>\n",
       "      <td>0</td>\n",
       "      <td>0</td>\n",
       "      <td>1</td>\n",
       "      <td>27</td>\n",
       "    </tr>\n",
       "    <tr>\n",
       "      <th>2</th>\n",
       "      <td>0</td>\n",
       "      <td>0</td>\n",
       "      <td>0</td>\n",
       "      <td>0</td>\n",
       "      <td>0</td>\n",
       "      <td>0</td>\n",
       "      <td>0</td>\n",
       "      <td>0</td>\n",
       "      <td>0</td>\n",
       "      <td>0</td>\n",
       "      <td>...</td>\n",
       "      <td>0</td>\n",
       "      <td>3</td>\n",
       "      <td>0</td>\n",
       "      <td>0</td>\n",
       "      <td>0</td>\n",
       "      <td>0</td>\n",
       "      <td>0</td>\n",
       "      <td>1</td>\n",
       "      <td>0</td>\n",
       "      <td>23</td>\n",
       "    </tr>\n",
       "    <tr>\n",
       "      <th>3</th>\n",
       "      <td>0</td>\n",
       "      <td>0</td>\n",
       "      <td>0</td>\n",
       "      <td>0</td>\n",
       "      <td>0</td>\n",
       "      <td>0</td>\n",
       "      <td>0</td>\n",
       "      <td>0</td>\n",
       "      <td>0</td>\n",
       "      <td>0</td>\n",
       "      <td>...</td>\n",
       "      <td>0</td>\n",
       "      <td>3</td>\n",
       "      <td>0</td>\n",
       "      <td>0</td>\n",
       "      <td>0</td>\n",
       "      <td>0</td>\n",
       "      <td>1</td>\n",
       "      <td>0</td>\n",
       "      <td>0</td>\n",
       "      <td>29</td>\n",
       "    </tr>\n",
       "    <tr>\n",
       "      <th>4</th>\n",
       "      <td>0</td>\n",
       "      <td>0</td>\n",
       "      <td>0</td>\n",
       "      <td>0</td>\n",
       "      <td>0</td>\n",
       "      <td>0</td>\n",
       "      <td>0</td>\n",
       "      <td>0</td>\n",
       "      <td>0</td>\n",
       "      <td>0</td>\n",
       "      <td>...</td>\n",
       "      <td>0</td>\n",
       "      <td>3</td>\n",
       "      <td>0</td>\n",
       "      <td>0</td>\n",
       "      <td>0</td>\n",
       "      <td>1</td>\n",
       "      <td>0</td>\n",
       "      <td>0</td>\n",
       "      <td>0</td>\n",
       "      <td>40</td>\n",
       "    </tr>\n",
       "  </tbody>\n",
       "</table>\n",
       "<p>5 rows × 21 columns</p>\n",
       "</div>"
      ],
      "text/plain": [
       "   mariners_home  seahawks_home  sounders_home  trav_holiday  dang_holiday  \\\n",
       "0              0              0              0             0             0   \n",
       "1              0              0              0             0             0   \n",
       "2              0              0              0             0             0   \n",
       "3              0              0              0             0             0   \n",
       "4              0              0              0             0             0   \n",
       "\n",
       "   night  Monday  Saturday  Sunday  Thursday  ...   Wednesday  day_num  zone1  \\\n",
       "0      0       0         0       0         0  ...           0        3      0   \n",
       "1      0       0         0       0         0  ...           0        3      0   \n",
       "2      0       0         0       0         0  ...           0        3      0   \n",
       "3      0       0         0       0         0  ...           0        3      0   \n",
       "4      0       0         0       0         0  ...           0        3      0   \n",
       "\n",
       "   zone2  zone3  zone4  zone5  zone6  zone7  freq  \n",
       "0      0      0      0      0      0      0     3  \n",
       "1      0      0      0      0      0      1    27  \n",
       "2      0      0      0      0      1      0    23  \n",
       "3      0      0      0      1      0      0    29  \n",
       "4      0      0      1      0      0      0    40  \n",
       "\n",
       "[5 rows x 21 columns]"
      ]
     },
     "execution_count": 12,
     "metadata": {},
     "output_type": "execute_result"
    }
   ],
   "source": [
    "df3.head()"
   ]
  },
  {
   "cell_type": "code",
   "execution_count": 28,
   "metadata": {
    "collapsed": false
   },
   "outputs": [
    {
     "data": {
      "text/plain": [
       "<matplotlib.text.Text at 0x7f37d777f0d0>"
      ]
     },
     "execution_count": 28,
     "metadata": {},
     "output_type": "execute_result"
    },
    {
     "data": {
      "image/png": "[encoded data removed]",
      "text/plain": [
       "<matplotlib.figure.Figure at 0x7f37d9047450>"
      ]
     },
     "metadata": {},
     "output_type": "display_data"
    }
   ],
   "source": [
    "plt.figure(figsize=(10,8))\n",
    "df3.freq.hist(bins=20)\n",
    "plt.title('Counts of Responses by Observation', fontsize=18)\n",
    "plt.ylabel('Count', fontsize=14)\n",
    "plt.xlabel('Number of Responses for Observation', fontsize=14)"
   ]
  },
  {
   "cell_type": "code",
   "execution_count": 29,
   "metadata": {
    "collapsed": false
   },
   "outputs": [
    {
     "data": {
      "text/plain": [
       "2304"
      ]
     },
     "execution_count": 29,
     "metadata": {},
     "output_type": "execute_result"
    }
   ],
   "source": [
    "df3.day_num.max()"
   ]
  },
  {
   "cell_type": "code",
   "execution_count": 30,
   "metadata": {
    "collapsed": false
   },
   "outputs": [],
   "source": [
    "# Create test and trainging sets\n",
    "df_train = df3[(df3.day_num < 1300) | (df3.day_num > 1600)]\n",
    "df_test = df3[(df3.day_num >= 1300) & (df3.day_num <= 1600)]\n",
    "\n",
    "# Create X and y\n",
    "y_train = df_train.pop('freq')\n",
    "X_train = df_train\n",
    "y_test = df_test.pop('freq')\n",
    "X_test = df_test\n",
    "\n",
    "# Scale X\n",
    "# scaler = StandardScaler(with_mean=False)\n",
    "# X_train = scaler.fit_transform(X_train)\n",
    "# X_test = scaler.transform(X_test)"
   ]
  },
  {
   "cell_type": "code",
   "execution_count": null,
   "metadata": {
    "collapsed": false
   },
   "outputs": [],
   "source": []
  },
  {
   "cell_type": "code",
   "execution_count": 31,
   "metadata": {
    "collapsed": false
   },
   "outputs": [
    {
     "name": "stdout",
     "output_type": "stream",
     "text": [
      "Optimization terminated successfully.\n",
      "         Current function value: 3.211140\n",
      "         Iterations 34\n"
     ]
    }
   ],
   "source": [
    "model = Poisson(y_train, X_train).fit()"
   ]
  },
  {
   "cell_type": "code",
   "execution_count": 32,
   "metadata": {
    "collapsed": false
   },
   "outputs": [
    {
     "data": {
      "text/html": [
       "<table class=\"simpletable\">\n",
       "<caption>Poisson Regression Results</caption>\n",
       "<tr>\n",
       "  <th>Dep. Variable:</th>       <td>freq</td>       <th>  No. Observations:  </th>   <td> 28897</td>   \n",
       "</tr>\n",
       "<tr>\n",
       "  <th>Model:</th>              <td>Poisson</td>     <th>  Df Residuals:      </th>   <td> 28877</td>   \n",
       "</tr>\n",
       "<tr>\n",
       "  <th>Method:</th>               <td>MLE</td>       <th>  Df Model:          </th>   <td>    19</td>   \n",
       "</tr>\n",
       "<tr>\n",
       "  <th>Date:</th>          <td>Sun, 13 Nov 2016</td> <th>  Pseudo R-squ.:     </th>   <td>0.3369</td>   \n",
       "</tr>\n",
       "<tr>\n",
       "  <th>Time:</th>              <td>13:14:22</td>     <th>  Log-Likelihood:    </th>  <td> -92792.</td>  \n",
       "</tr>\n",
       "<tr>\n",
       "  <th>converged:</th>           <td>True</td>       <th>  LL-Null:           </th> <td>-1.3993e+05</td>\n",
       "</tr>\n",
       "<tr>\n",
       "  <th> </th>                      <td> </td>        <th>  LLR p-value:       </th>   <td> 0.000</td>   \n",
       "</tr>\n",
       "</table>\n",
       "<table class=\"simpletable\">\n",
       "<tr>\n",
       "        <td></td>           <th>coef</th>     <th>std err</th>      <th>z</th>      <th>P>|z|</th> <th>[95.0% Conf. Int.]</th> \n",
       "</tr>\n",
       "<tr>\n",
       "  <th>mariners_home</th> <td>    0.0280</td> <td>    0.003</td> <td>    8.455</td> <td> 0.000</td> <td>    0.022     0.034</td>\n",
       "</tr>\n",
       "<tr>\n",
       "  <th>seahawks_home</th> <td>   -0.0241</td> <td>    0.010</td> <td>   -2.330</td> <td> 0.020</td> <td>   -0.044    -0.004</td>\n",
       "</tr>\n",
       "<tr>\n",
       "  <th>sounders_home</th> <td>    0.0360</td> <td>    0.007</td> <td>    5.110</td> <td> 0.000</td> <td>    0.022     0.050</td>\n",
       "</tr>\n",
       "<tr>\n",
       "  <th>trav_holiday</th>  <td>   -0.0722</td> <td>    0.011</td> <td>   -6.353</td> <td> 0.000</td> <td>   -0.094    -0.050</td>\n",
       "</tr>\n",
       "<tr>\n",
       "  <th>dang_holiday</th>  <td>    0.1545</td> <td>    0.017</td> <td>    8.876</td> <td> 0.000</td> <td>    0.120     0.189</td>\n",
       "</tr>\n",
       "<tr>\n",
       "  <th>night</th>         <td>    0.2873</td> <td>    0.003</td> <td>   98.090</td> <td> 0.000</td> <td>    0.282     0.293</td>\n",
       "</tr>\n",
       "<tr>\n",
       "  <th>Monday</th>        <td>   -0.0420</td> <td>    0.005</td> <td>   -7.756</td> <td> 0.000</td> <td>   -0.053    -0.031</td>\n",
       "</tr>\n",
       "<tr>\n",
       "  <th>Saturday</th>      <td>    0.0015</td> <td>    0.005</td> <td>    0.268</td> <td> 0.789</td> <td>   -0.009     0.012</td>\n",
       "</tr>\n",
       "<tr>\n",
       "  <th>Sunday</th>        <td>   -0.0196</td> <td>    0.006</td> <td>   -3.503</td> <td> 0.000</td> <td>   -0.031    -0.009</td>\n",
       "</tr>\n",
       "<tr>\n",
       "  <th>Thursday</th>      <td>   -0.0312</td> <td>    0.005</td> <td>   -5.789</td> <td> 0.000</td> <td>   -0.042    -0.021</td>\n",
       "</tr>\n",
       "<tr>\n",
       "  <th>Tuesday</th>       <td>   -0.0360</td> <td>    0.005</td> <td>   -6.690</td> <td> 0.000</td> <td>   -0.047    -0.025</td>\n",
       "</tr>\n",
       "<tr>\n",
       "  <th>Wednesday</th>     <td>   -0.0315</td> <td>    0.005</td> <td>   -5.867</td> <td> 0.000</td> <td>   -0.042    -0.021</td>\n",
       "</tr>\n",
       "<tr>\n",
       "  <th>day_num</th>       <td>    0.0002</td> <td> 2.06e-06</td> <td>   75.398</td> <td> 0.000</td> <td>    0.000     0.000</td>\n",
       "</tr>\n",
       "<tr>\n",
       "  <th>zone1</th>         <td>    2.6634</td> <td>    0.006</td> <td>  454.484</td> <td> 0.000</td> <td>    2.652     2.675</td>\n",
       "</tr>\n",
       "<tr>\n",
       "  <th>zone2</th>         <td>    2.4395</td> <td>    0.006</td> <td>  397.840</td> <td> 0.000</td> <td>    2.428     2.452</td>\n",
       "</tr>\n",
       "<tr>\n",
       "  <th>zone3</th>         <td>    2.0390</td> <td>    0.007</td> <td>  301.966</td> <td> 0.000</td> <td>    2.026     2.052</td>\n",
       "</tr>\n",
       "<tr>\n",
       "  <th>zone4</th>         <td>    2.6088</td> <td>    0.006</td> <td>  440.532</td> <td> 0.000</td> <td>    2.597     2.620</td>\n",
       "</tr>\n",
       "<tr>\n",
       "  <th>zone5</th>         <td>    3.0048</td> <td>    0.006</td> <td>  543.311</td> <td> 0.000</td> <td>    2.994     3.016</td>\n",
       "</tr>\n",
       "<tr>\n",
       "  <th>zone6</th>         <td>    2.2308</td> <td>    0.006</td> <td>  346.895</td> <td> 0.000</td> <td>    2.218     2.243</td>\n",
       "</tr>\n",
       "<tr>\n",
       "  <th>zone7</th>         <td>    2.3857</td> <td>    0.006</td> <td>  384.355</td> <td> 0.000</td> <td>    2.374     2.398</td>\n",
       "</tr>\n",
       "</table>"
      ],
      "text/plain": [
       "<class 'statsmodels.iolib.summary.Summary'>\n",
       "\"\"\"\n",
       "                          Poisson Regression Results                          \n",
       "==============================================================================\n",
       "Dep. Variable:                   freq   No. Observations:                28897\n",
       "Model:                        Poisson   Df Residuals:                    28877\n",
       "Method:                           MLE   Df Model:                           19\n",
       "Date:                Sun, 13 Nov 2016   Pseudo R-squ.:                  0.3369\n",
       "Time:                        13:14:22   Log-Likelihood:                -92792.\n",
       "converged:                       True   LL-Null:                   -1.3993e+05\n",
       "                                        LLR p-value:                     0.000\n",
       "=================================================================================\n",
       "                    coef    std err          z      P>|z|      [95.0% Conf. Int.]\n",
       "---------------------------------------------------------------------------------\n",
       "mariners_home     0.0280      0.003      8.455      0.000         0.022     0.034\n",
       "seahawks_home    -0.0241      0.010     -2.330      0.020        -0.044    -0.004\n",
       "sounders_home     0.0360      0.007      5.110      0.000         0.022     0.050\n",
       "trav_holiday     -0.0722      0.011     -6.353      0.000        -0.094    -0.050\n",
       "dang_holiday      0.1545      0.017      8.876      0.000         0.120     0.189\n",
       "night             0.2873      0.003     98.090      0.000         0.282     0.293\n",
       "Monday           -0.0420      0.005     -7.756      0.000        -0.053    -0.031\n",
       "Saturday          0.0015      0.005      0.268      0.789        -0.009     0.012\n",
       "Sunday           -0.0196      0.006     -3.503      0.000        -0.031    -0.009\n",
       "Thursday         -0.0312      0.005     -5.789      0.000        -0.042    -0.021\n",
       "Tuesday          -0.0360      0.005     -6.690      0.000        -0.047    -0.025\n",
       "Wednesday        -0.0315      0.005     -5.867      0.000        -0.042    -0.021\n",
       "day_num           0.0002   2.06e-06     75.398      0.000         0.000     0.000\n",
       "zone1             2.6634      0.006    454.484      0.000         2.652     2.675\n",
       "zone2             2.4395      0.006    397.840      0.000         2.428     2.452\n",
       "zone3             2.0390      0.007    301.966      0.000         2.026     2.052\n",
       "zone4             2.6088      0.006    440.532      0.000         2.597     2.620\n",
       "zone5             3.0048      0.006    543.311      0.000         2.994     3.016\n",
       "zone6             2.2308      0.006    346.895      0.000         2.218     2.243\n",
       "zone7             2.3857      0.006    384.355      0.000         2.374     2.398\n",
       "=================================================================================\n",
       "\"\"\""
      ]
     },
     "execution_count": 32,
     "metadata": {},
     "output_type": "execute_result"
    }
   ],
   "source": [
    "model.summary()"
   ]
  },
  {
   "cell_type": "code",
   "execution_count": 33,
   "metadata": {
    "collapsed": false
   },
   "outputs": [],
   "source": [
    "y_hat = model.predict(X_test) "
   ]
  },
  {
   "cell_type": "code",
   "execution_count": 34,
   "metadata": {
    "collapsed": false
   },
   "outputs": [
    {
     "data": {
      "text/plain": [
       "25.90146793579374"
      ]
     },
     "execution_count": 34,
     "metadata": {},
     "output_type": "execute_result"
    }
   ],
   "source": [
    "mean_squared_error(y_test, y_hat)"
   ]
  },
  {
   "cell_type": "code",
   "execution_count": 35,
   "metadata": {
    "collapsed": false
   },
   "outputs": [
    {
     "name": "stdout",
     "output_type": "stream",
     "text": [
      "881      -0.689617\n",
      "882       0.399557\n",
      "883      -3.281126\n",
      "884       9.637025\n",
      "885      -1.589345\n",
      "886      -0.953809\n",
      "887       7.570367\n",
      "888       1.324871\n",
      "889       1.411965\n",
      "890       1.745779\n",
      "891       8.655134\n",
      "892       3.420898\n",
      "893       3.061480\n",
      "894       3.589491\n",
      "895       1.339375\n",
      "896       0.424386\n",
      "897      -5.227286\n",
      "898       0.673262\n",
      "899      -0.568847\n",
      "900      -0.923215\n",
      "901      -0.391363\n",
      "902      -0.646106\n",
      "903      -4.563179\n",
      "904      -3.200322\n",
      "905      -5.308590\n",
      "906       0.441418\n",
      "907       0.092108\n",
      "908       6.627803\n",
      "909       6.368429\n",
      "910       5.449270\n",
      "           ...    \n",
      "33276     2.212557\n",
      "33277     2.454420\n",
      "33278    -2.320127\n",
      "33279    10.014320\n",
      "33280    -4.416413\n",
      "33281     1.274642\n",
      "33282     2.361530\n",
      "33283    -0.222390\n",
      "33284   -10.682654\n",
      "33285    -1.455835\n",
      "33286    -4.125522\n",
      "33287     6.145298\n",
      "33288     2.657675\n",
      "33289     0.385224\n",
      "33290     2.499856\n",
      "33291    -0.206852\n",
      "33292    -0.513802\n",
      "33293    -2.311223\n",
      "33294    -1.811945\n",
      "33295     0.356351\n",
      "33296     3.777056\n",
      "33297     7.563410\n",
      "33298     3.722750\n",
      "33299     6.677922\n",
      "33300    -4.147023\n",
      "33301   -16.455893\n",
      "33302     5.595992\n",
      "33303     3.912608\n",
      "33304    -2.234268\n",
      "33305    -3.024166\n",
      "Name: freq, dtype: float64\n"
     ]
    }
   ],
   "source": [
    "print y_hat - y_test"
   ]
  },
  {
   "cell_type": "code",
   "execution_count": 45,
   "metadata": {
    "collapsed": false
   },
   "outputs": [],
   "source": [
    "'''\n",
    "Questions:\n",
    "1. Scaling not required?\n",
    "2. Dep Variable freq vs count?\n",
    "3. Refactor day in 12 hr rather than 24 hr?\n",
    "'''"
   ]
  },
  {
   "cell_type": "code",
   "execution_count": 37,
   "metadata": {
    "collapsed": true
   },
   "outputs": [],
   "source": [
    "model_boosting = GradientBoostingRegressor(subsample=0.5, n_estimators=10000, learning_rate=0.001)"
   ]
  },
  {
   "cell_type": "code",
   "execution_count": 38,
   "metadata": {
    "collapsed": false
   },
   "outputs": [
    {
     "data": {
      "text/plain": [
       "GradientBoostingRegressor(alpha=0.9, init=None, learning_rate=0.001,\n",
       "             loss='ls', max_depth=3, max_features=None,\n",
       "             max_leaf_nodes=None, min_samples_leaf=1, min_samples_split=2,\n",
       "             min_weight_fraction_leaf=0.0, n_estimators=10000,\n",
       "             presort='auto', random_state=None, subsample=0.5, verbose=0,\n",
       "             warm_start=False)"
      ]
     },
     "execution_count": 38,
     "metadata": {},
     "output_type": "execute_result"
    }
   ],
   "source": [
    "model_boosting.fit(X_train, y_train)"
   ]
  },
  {
   "cell_type": "code",
   "execution_count": 39,
   "metadata": {
    "collapsed": true
   },
   "outputs": [],
   "source": [
    "y_hat_boost = model_boosting.predict(X_test)"
   ]
  },
  {
   "cell_type": "code",
   "execution_count": 40,
   "metadata": {
    "collapsed": false
   },
   "outputs": [
    {
     "data": {
      "text/plain": [
       "32.19213946662304"
      ]
     },
     "execution_count": 40,
     "metadata": {},
     "output_type": "execute_result"
    }
   ],
   "source": [
    "mean_squared_error(y_test, y_hat_boost)"
   ]
  },
  {
   "cell_type": "code",
   "execution_count": 41,
   "metadata": {
    "collapsed": true
   },
   "outputs": [],
   "source": [
    "model_forest = RandomForestRegressor(n_jobs=-1, n_estimators=1000, max_features='sqrt')"
   ]
  },
  {
   "cell_type": "code",
   "execution_count": 42,
   "metadata": {
    "collapsed": false
   },
   "outputs": [
    {
     "data": {
      "text/plain": [
       "RandomForestRegressor(bootstrap=True, criterion='mse', max_depth=None,\n",
       "           max_features='sqrt', max_leaf_nodes=None, min_samples_leaf=1,\n",
       "           min_samples_split=2, min_weight_fraction_leaf=0.0,\n",
       "           n_estimators=1000, n_jobs=-1, oob_score=False,\n",
       "           random_state=None, verbose=0, warm_start=False)"
      ]
     },
     "execution_count": 42,
     "metadata": {},
     "output_type": "execute_result"
    }
   ],
   "source": [
    "model_forest.fit(X_train, y_train, )"
   ]
  },
  {
   "cell_type": "code",
   "execution_count": 43,
   "metadata": {
    "collapsed": true
   },
   "outputs": [],
   "source": [
    "y_hat_for = model_forest.predict(X_test)"
   ]
  },
  {
   "cell_type": "code",
   "execution_count": 44,
   "metadata": {
    "collapsed": false
   },
   "outputs": [
    {
     "data": {
      "text/plain": [
       "34.120405660432624"
      ]
     },
     "execution_count": 44,
     "metadata": {},
     "output_type": "execute_result"
    }
   ],
   "source": [
    "mean_squared_error(y_test, y_hat_for)"
   ]
  },
  {
   "cell_type": "code",
   "execution_count": null,
   "metadata": {
    "collapsed": true
   },
   "outputs": [],
   "source": []
  }
 ],
 "metadata": {
  "anaconda-cloud": {},
  "kernelspec": {
   "display_name": "Python [conda root]",
   "language": "python",
   "name": "conda-root-py"
  },
  "language_info": {
   "codemirror_mode": {
    "name": "ipython",
    "version": 2
   },
   "file_extension": ".py",
   "mimetype": "text/x-python",
   "name": "python",
   "nbconvert_exporter": "python",
   "pygments_lexer": "ipython2",
   "version": "2.7.12"
  }
 },
 "nbformat": 4,
 "nbformat_minor": 1
}

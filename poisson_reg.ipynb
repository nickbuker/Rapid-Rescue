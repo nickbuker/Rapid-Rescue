{
 "cells": [
  {
   "cell_type": "code",
   "execution_count": 7,
   "metadata": {
    "collapsed": true
   },
   "outputs": [],
   "source": [
    "import pandas as pd\n",
    "import numpy as np\n",
    "import statsmodels.api as sm\n",
    "from statsmodels.discrete.discrete_model import Poisson\n",
    "from sklearn.preprocessing import StandardScaler\n",
    "from sklearn.metrics import mean_squared_error\n",
    "import matplotlib.pyplot as plt\n",
    "\n",
    "from sklearn.ensemble import GradientBoostingRegressor, RandomForestRegressor\n",
    "\n",
    "% matplotlib inline"
   ]
  },
  {
   "cell_type": "code",
   "execution_count": 8,
   "metadata": {
    "collapsed": false
   },
   "outputs": [],
   "source": [
    "# Create a Dataframe and drop extra column\n",
    "df = pd.read_csv('./data/seattle_911_prepped.csv', low_memory=False)\n",
    "df.drop(['Unnamed: 0'], axis=1, inplace=True)\n",
    "\n",
    "df_no_out = pd.read_csv('./data/seattle_911_prepped_no_out.csv', low_memory=False)\n",
    "df_no_out.drop(['Unnamed: 0'], axis=1, inplace=True)"
   ]
  },
  {
   "cell_type": "code",
   "execution_count": 4,
   "metadata": {
    "collapsed": false
   },
   "outputs": [
    {
     "data": {
      "text/html": [
       "<div>\n",
       "<table border=\"1\" class=\"dataframe\">\n",
       "  <thead>\n",
       "    <tr style=\"text-align: right;\">\n",
       "      <th></th>\n",
       "      <th>Address</th>\n",
       "      <th>Type</th>\n",
       "      <th>Datetime</th>\n",
       "      <th>Latitude</th>\n",
       "      <th>Longitude</th>\n",
       "      <th>Report Location</th>\n",
       "      <th>Incident Number</th>\n",
       "      <th>dt_crop</th>\n",
       "      <th>date</th>\n",
       "      <th>time</th>\n",
       "      <th>...</th>\n",
       "      <th>day_num</th>\n",
       "      <th>neighborhood</th>\n",
       "      <th>zone1</th>\n",
       "      <th>zone2</th>\n",
       "      <th>zone3</th>\n",
       "      <th>zone4</th>\n",
       "      <th>zone5</th>\n",
       "      <th>zone6</th>\n",
       "      <th>zone7</th>\n",
       "      <th>seasonality</th>\n",
       "    </tr>\n",
       "  </thead>\n",
       "  <tbody>\n",
       "    <tr>\n",
       "      <th>0</th>\n",
       "      <td>11747 Bartlett Av Ne</td>\n",
       "      <td>Medic Response</td>\n",
       "      <td>2010-06-29 08:00:00</td>\n",
       "      <td>47.713787</td>\n",
       "      <td>-122.283848</td>\n",
       "      <td>NaN</td>\n",
       "      <td>NaN</td>\n",
       "      <td>06/29/2010 08:00:00 AM</td>\n",
       "      <td>2010-06-29</td>\n",
       "      <td>08:00:00</td>\n",
       "      <td>...</td>\n",
       "      <td>0</td>\n",
       "      <td>Matthews Beach</td>\n",
       "      <td>0</td>\n",
       "      <td>1</td>\n",
       "      <td>0</td>\n",
       "      <td>0</td>\n",
       "      <td>0</td>\n",
       "      <td>0</td>\n",
       "      <td>0</td>\n",
       "      <td>1.824157</td>\n",
       "    </tr>\n",
       "    <tr>\n",
       "      <th>1</th>\n",
       "      <td>700 6th Av S</td>\n",
       "      <td>Aid Response</td>\n",
       "      <td>2010-06-29 07:49:00</td>\n",
       "      <td>47.596676</td>\n",
       "      <td>-122.326370</td>\n",
       "      <td>NaN</td>\n",
       "      <td>NaN</td>\n",
       "      <td>06/29/2010 07:49:00 AM</td>\n",
       "      <td>2010-06-29</td>\n",
       "      <td>07:49:00</td>\n",
       "      <td>...</td>\n",
       "      <td>0</td>\n",
       "      <td>International District</td>\n",
       "      <td>0</td>\n",
       "      <td>0</td>\n",
       "      <td>0</td>\n",
       "      <td>0</td>\n",
       "      <td>1</td>\n",
       "      <td>0</td>\n",
       "      <td>0</td>\n",
       "      <td>1.824157</td>\n",
       "    </tr>\n",
       "    <tr>\n",
       "      <th>2</th>\n",
       "      <td>7751 26th Av Nw</td>\n",
       "      <td>Aid Response</td>\n",
       "      <td>2010-06-29 07:49:00</td>\n",
       "      <td>47.685264</td>\n",
       "      <td>-122.389777</td>\n",
       "      <td>NaN</td>\n",
       "      <td>NaN</td>\n",
       "      <td>06/29/2010 07:49:00 AM</td>\n",
       "      <td>2010-06-29</td>\n",
       "      <td>07:49:00</td>\n",
       "      <td>...</td>\n",
       "      <td>0</td>\n",
       "      <td>Loyal Heights</td>\n",
       "      <td>1</td>\n",
       "      <td>0</td>\n",
       "      <td>0</td>\n",
       "      <td>0</td>\n",
       "      <td>0</td>\n",
       "      <td>0</td>\n",
       "      <td>0</td>\n",
       "      <td>1.824157</td>\n",
       "    </tr>\n",
       "    <tr>\n",
       "      <th>3</th>\n",
       "      <td>5241 33rd Av S</td>\n",
       "      <td>Aid Response</td>\n",
       "      <td>2010-06-29 07:50:00</td>\n",
       "      <td>47.554718</td>\n",
       "      <td>-122.290486</td>\n",
       "      <td>NaN</td>\n",
       "      <td>NaN</td>\n",
       "      <td>06/29/2010 07:50:00 AM</td>\n",
       "      <td>2010-06-29</td>\n",
       "      <td>07:50:00</td>\n",
       "      <td>...</td>\n",
       "      <td>0</td>\n",
       "      <td>Mid-Beacon Hill</td>\n",
       "      <td>0</td>\n",
       "      <td>0</td>\n",
       "      <td>0</td>\n",
       "      <td>0</td>\n",
       "      <td>0</td>\n",
       "      <td>0</td>\n",
       "      <td>1</td>\n",
       "      <td>1.824157</td>\n",
       "    </tr>\n",
       "    <tr>\n",
       "      <th>4</th>\n",
       "      <td>509 3rd Av</td>\n",
       "      <td>Auto Fire Alarm</td>\n",
       "      <td>2010-06-29 07:50:00</td>\n",
       "      <td>47.602114</td>\n",
       "      <td>-122.330809</td>\n",
       "      <td>NaN</td>\n",
       "      <td>NaN</td>\n",
       "      <td>06/29/2010 07:50:00 AM</td>\n",
       "      <td>2010-06-29</td>\n",
       "      <td>07:50:00</td>\n",
       "      <td>...</td>\n",
       "      <td>0</td>\n",
       "      <td>Pioneer Square</td>\n",
       "      <td>0</td>\n",
       "      <td>0</td>\n",
       "      <td>0</td>\n",
       "      <td>0</td>\n",
       "      <td>1</td>\n",
       "      <td>0</td>\n",
       "      <td>0</td>\n",
       "      <td>1.824157</td>\n",
       "    </tr>\n",
       "  </tbody>\n",
       "</table>\n",
       "<p>5 rows × 35 columns</p>\n",
       "</div>"
      ],
      "text/plain": [
       "                Address             Type             Datetime   Latitude  \\\n",
       "0  11747 Bartlett Av Ne   Medic Response  2010-06-29 08:00:00  47.713787   \n",
       "1          700 6th Av S     Aid Response  2010-06-29 07:49:00  47.596676   \n",
       "2       7751 26th Av Nw     Aid Response  2010-06-29 07:49:00  47.685264   \n",
       "3        5241 33rd Av S     Aid Response  2010-06-29 07:50:00  47.554718   \n",
       "4            509 3rd Av  Auto Fire Alarm  2010-06-29 07:50:00  47.602114   \n",
       "\n",
       "    Longitude Report Location Incident Number                 dt_crop  \\\n",
       "0 -122.283848             NaN             NaN  06/29/2010 08:00:00 AM   \n",
       "1 -122.326370             NaN             NaN  06/29/2010 07:49:00 AM   \n",
       "2 -122.389777             NaN             NaN  06/29/2010 07:49:00 AM   \n",
       "3 -122.290486             NaN             NaN  06/29/2010 07:50:00 AM   \n",
       "4 -122.330809             NaN             NaN  06/29/2010 07:50:00 AM   \n",
       "\n",
       "         date      time     ...      day_num            neighborhood  zone1  \\\n",
       "0  2010-06-29  08:00:00     ...            0          Matthews Beach      0   \n",
       "1  2010-06-29  07:49:00     ...            0  International District      0   \n",
       "2  2010-06-29  07:49:00     ...            0           Loyal Heights      1   \n",
       "3  2010-06-29  07:50:00     ...            0         Mid-Beacon Hill      0   \n",
       "4  2010-06-29  07:50:00     ...            0          Pioneer Square      0   \n",
       "\n",
       "   zone2  zone3  zone4  zone5 zone6  zone7  seasonality  \n",
       "0      1      0      0      0     0      0     1.824157  \n",
       "1      0      0      0      1     0      0     1.824157  \n",
       "2      0      0      0      0     0      0     1.824157  \n",
       "3      0      0      0      0     0      1     1.824157  \n",
       "4      0      0      0      1     0      0     1.824157  \n",
       "\n",
       "[5 rows x 35 columns]"
      ]
     },
     "execution_count": 4,
     "metadata": {},
     "output_type": "execute_result"
    }
   ],
   "source": [
    "df.head()"
   ]
  },
  {
   "cell_type": "code",
   "execution_count": 9,
   "metadata": {
    "collapsed": false
   },
   "outputs": [
    {
     "data": {
      "text/html": [
       "<div>\n",
       "<table border=\"1\" class=\"dataframe\">\n",
       "  <thead>\n",
       "    <tr style=\"text-align: right;\">\n",
       "      <th></th>\n",
       "      <th>mariners_home</th>\n",
       "      <th>seahawks_home</th>\n",
       "      <th>sounders_home</th>\n",
       "      <th>trav_holiday</th>\n",
       "      <th>dang_holiday</th>\n",
       "      <th>night</th>\n",
       "      <th>Monday</th>\n",
       "      <th>Saturday</th>\n",
       "      <th>Sunday</th>\n",
       "      <th>Thursday</th>\n",
       "      <th>...</th>\n",
       "      <th>Wednesday</th>\n",
       "      <th>day_num</th>\n",
       "      <th>zone1</th>\n",
       "      <th>zone2</th>\n",
       "      <th>zone3</th>\n",
       "      <th>zone4</th>\n",
       "      <th>zone5</th>\n",
       "      <th>zone6</th>\n",
       "      <th>zone7</th>\n",
       "      <th>seasonality</th>\n",
       "    </tr>\n",
       "  </thead>\n",
       "  <tbody>\n",
       "    <tr>\n",
       "      <th>0</th>\n",
       "      <td>0</td>\n",
       "      <td>0</td>\n",
       "      <td>0</td>\n",
       "      <td>0</td>\n",
       "      <td>0</td>\n",
       "      <td>0</td>\n",
       "      <td>0</td>\n",
       "      <td>0</td>\n",
       "      <td>0</td>\n",
       "      <td>0</td>\n",
       "      <td>...</td>\n",
       "      <td>0</td>\n",
       "      <td>0</td>\n",
       "      <td>0</td>\n",
       "      <td>1</td>\n",
       "      <td>0</td>\n",
       "      <td>0</td>\n",
       "      <td>0</td>\n",
       "      <td>0</td>\n",
       "      <td>0</td>\n",
       "      <td>1.824157</td>\n",
       "    </tr>\n",
       "    <tr>\n",
       "      <th>1</th>\n",
       "      <td>0</td>\n",
       "      <td>0</td>\n",
       "      <td>0</td>\n",
       "      <td>0</td>\n",
       "      <td>0</td>\n",
       "      <td>0</td>\n",
       "      <td>0</td>\n",
       "      <td>0</td>\n",
       "      <td>0</td>\n",
       "      <td>0</td>\n",
       "      <td>...</td>\n",
       "      <td>0</td>\n",
       "      <td>0</td>\n",
       "      <td>0</td>\n",
       "      <td>0</td>\n",
       "      <td>0</td>\n",
       "      <td>0</td>\n",
       "      <td>1</td>\n",
       "      <td>0</td>\n",
       "      <td>0</td>\n",
       "      <td>1.824157</td>\n",
       "    </tr>\n",
       "    <tr>\n",
       "      <th>2</th>\n",
       "      <td>0</td>\n",
       "      <td>0</td>\n",
       "      <td>0</td>\n",
       "      <td>0</td>\n",
       "      <td>0</td>\n",
       "      <td>0</td>\n",
       "      <td>0</td>\n",
       "      <td>0</td>\n",
       "      <td>0</td>\n",
       "      <td>0</td>\n",
       "      <td>...</td>\n",
       "      <td>0</td>\n",
       "      <td>0</td>\n",
       "      <td>1</td>\n",
       "      <td>0</td>\n",
       "      <td>0</td>\n",
       "      <td>0</td>\n",
       "      <td>0</td>\n",
       "      <td>0</td>\n",
       "      <td>0</td>\n",
       "      <td>1.824157</td>\n",
       "    </tr>\n",
       "    <tr>\n",
       "      <th>3</th>\n",
       "      <td>0</td>\n",
       "      <td>0</td>\n",
       "      <td>0</td>\n",
       "      <td>0</td>\n",
       "      <td>0</td>\n",
       "      <td>0</td>\n",
       "      <td>0</td>\n",
       "      <td>0</td>\n",
       "      <td>0</td>\n",
       "      <td>0</td>\n",
       "      <td>...</td>\n",
       "      <td>0</td>\n",
       "      <td>0</td>\n",
       "      <td>0</td>\n",
       "      <td>0</td>\n",
       "      <td>0</td>\n",
       "      <td>0</td>\n",
       "      <td>0</td>\n",
       "      <td>0</td>\n",
       "      <td>1</td>\n",
       "      <td>1.824157</td>\n",
       "    </tr>\n",
       "    <tr>\n",
       "      <th>4</th>\n",
       "      <td>0</td>\n",
       "      <td>0</td>\n",
       "      <td>0</td>\n",
       "      <td>0</td>\n",
       "      <td>0</td>\n",
       "      <td>0</td>\n",
       "      <td>0</td>\n",
       "      <td>0</td>\n",
       "      <td>0</td>\n",
       "      <td>0</td>\n",
       "      <td>...</td>\n",
       "      <td>0</td>\n",
       "      <td>0</td>\n",
       "      <td>0</td>\n",
       "      <td>0</td>\n",
       "      <td>0</td>\n",
       "      <td>0</td>\n",
       "      <td>1</td>\n",
       "      <td>0</td>\n",
       "      <td>0</td>\n",
       "      <td>1.824157</td>\n",
       "    </tr>\n",
       "  </tbody>\n",
       "</table>\n",
       "<p>5 rows × 21 columns</p>\n",
       "</div>"
      ],
      "text/plain": [
       "   mariners_home  seahawks_home  sounders_home  trav_holiday  dang_holiday  \\\n",
       "0              0              0              0             0             0   \n",
       "1              0              0              0             0             0   \n",
       "2              0              0              0             0             0   \n",
       "3              0              0              0             0             0   \n",
       "4              0              0              0             0             0   \n",
       "\n",
       "   night  Monday  Saturday  Sunday  Thursday     ...       Wednesday  day_num  \\\n",
       "0      0       0         0       0         0     ...               0        0   \n",
       "1      0       0         0       0         0     ...               0        0   \n",
       "2      0       0         0       0         0     ...               0        0   \n",
       "3      0       0         0       0         0     ...               0        0   \n",
       "4      0       0         0       0         0     ...               0        0   \n",
       "\n",
       "   zone1  zone2  zone3  zone4  zone5  zone6  zone7  seasonality  \n",
       "0      0      1      0      0      0      0      0     1.824157  \n",
       "1      0      0      0      0      1      0      0     1.824157  \n",
       "2      1      0      0      0      0      0      0     1.824157  \n",
       "3      0      0      0      0      0      0      1     1.824157  \n",
       "4      0      0      0      0      1      0      0     1.824157  \n",
       "\n",
       "[5 rows x 21 columns]"
      ]
     },
     "execution_count": 9,
     "metadata": {},
     "output_type": "execute_result"
    }
   ],
   "source": [
    "df2 = df.drop(labels=(['Address', 'Type', 'Report Location', 'Incident Number',\n",
    "                 'dt_crop', 'neighborhood', 'date2', 'time2', 'weekday',\n",
    "                 'Latitude', 'Longitude', 'time', 'Datetime', 'date']), axis=1)\n",
    "df2_no_out = df_no_out.drop(labels=(['Address', 'Type', 'Report Location', 'Incident Number',\n",
    "                 'dt_crop', 'neighborhood', 'date2', 'time2', 'weekday',\n",
    "                 'Latitude', 'Longitude', 'time', 'Datetime', 'date']), axis=1)\n",
    "df2.head()"
   ]
  },
  {
   "cell_type": "code",
   "execution_count": 10,
   "metadata": {
    "collapsed": false
   },
   "outputs": [],
   "source": [
    "df2.to_csv('./data/model_data.csv')\n",
    "df2_no_out.to_csv('./data/model_data_no_out.csv')"
   ]
  },
  {
   "cell_type": "code",
   "execution_count": 11,
   "metadata": {
    "collapsed": false
   },
   "outputs": [],
   "source": [
    "# R used to fix dataframe for Poisson model\n",
    "df3 = pd.read_csv('./data/model_data_counted_no_out.csv', low_memory=False)\n",
    "df3.drop(['Unnamed: 0'], axis=1, inplace=True)"
   ]
  },
  {
   "cell_type": "code",
   "execution_count": 12,
   "metadata": {
    "collapsed": false
   },
   "outputs": [
    {
     "data": {
      "text/html": [
       "<div>\n",
       "<table border=\"1\" class=\"dataframe\">\n",
       "  <thead>\n",
       "    <tr style=\"text-align: right;\">\n",
       "      <th></th>\n",
       "      <th>mariners_home</th>\n",
       "      <th>seahawks_home</th>\n",
       "      <th>sounders_home</th>\n",
       "      <th>trav_holiday</th>\n",
       "      <th>dang_holiday</th>\n",
       "      <th>night</th>\n",
       "      <th>Monday</th>\n",
       "      <th>Saturday</th>\n",
       "      <th>Sunday</th>\n",
       "      <th>Thursday</th>\n",
       "      <th>...</th>\n",
       "      <th>day_num</th>\n",
       "      <th>zone1</th>\n",
       "      <th>zone2</th>\n",
       "      <th>zone3</th>\n",
       "      <th>zone4</th>\n",
       "      <th>zone5</th>\n",
       "      <th>zone6</th>\n",
       "      <th>zone7</th>\n",
       "      <th>seasonality</th>\n",
       "      <th>freq</th>\n",
       "    </tr>\n",
       "  </thead>\n",
       "  <tbody>\n",
       "    <tr>\n",
       "      <th>0</th>\n",
       "      <td>0</td>\n",
       "      <td>0</td>\n",
       "      <td>0</td>\n",
       "      <td>0</td>\n",
       "      <td>0</td>\n",
       "      <td>0</td>\n",
       "      <td>0</td>\n",
       "      <td>0</td>\n",
       "      <td>0</td>\n",
       "      <td>0</td>\n",
       "      <td>...</td>\n",
       "      <td>0</td>\n",
       "      <td>0</td>\n",
       "      <td>1</td>\n",
       "      <td>0</td>\n",
       "      <td>0</td>\n",
       "      <td>0</td>\n",
       "      <td>0</td>\n",
       "      <td>0</td>\n",
       "      <td>1.824157</td>\n",
       "      <td>20</td>\n",
       "    </tr>\n",
       "    <tr>\n",
       "      <th>1</th>\n",
       "      <td>0</td>\n",
       "      <td>0</td>\n",
       "      <td>0</td>\n",
       "      <td>0</td>\n",
       "      <td>0</td>\n",
       "      <td>0</td>\n",
       "      <td>0</td>\n",
       "      <td>0</td>\n",
       "      <td>0</td>\n",
       "      <td>0</td>\n",
       "      <td>...</td>\n",
       "      <td>0</td>\n",
       "      <td>0</td>\n",
       "      <td>0</td>\n",
       "      <td>0</td>\n",
       "      <td>0</td>\n",
       "      <td>1</td>\n",
       "      <td>0</td>\n",
       "      <td>0</td>\n",
       "      <td>1.824157</td>\n",
       "      <td>35</td>\n",
       "    </tr>\n",
       "    <tr>\n",
       "      <th>2</th>\n",
       "      <td>0</td>\n",
       "      <td>0</td>\n",
       "      <td>0</td>\n",
       "      <td>0</td>\n",
       "      <td>0</td>\n",
       "      <td>0</td>\n",
       "      <td>0</td>\n",
       "      <td>0</td>\n",
       "      <td>0</td>\n",
       "      <td>0</td>\n",
       "      <td>...</td>\n",
       "      <td>0</td>\n",
       "      <td>1</td>\n",
       "      <td>0</td>\n",
       "      <td>0</td>\n",
       "      <td>0</td>\n",
       "      <td>0</td>\n",
       "      <td>0</td>\n",
       "      <td>0</td>\n",
       "      <td>1.824157</td>\n",
       "      <td>30</td>\n",
       "    </tr>\n",
       "    <tr>\n",
       "      <th>3</th>\n",
       "      <td>0</td>\n",
       "      <td>0</td>\n",
       "      <td>0</td>\n",
       "      <td>0</td>\n",
       "      <td>0</td>\n",
       "      <td>0</td>\n",
       "      <td>0</td>\n",
       "      <td>0</td>\n",
       "      <td>0</td>\n",
       "      <td>0</td>\n",
       "      <td>...</td>\n",
       "      <td>0</td>\n",
       "      <td>0</td>\n",
       "      <td>0</td>\n",
       "      <td>0</td>\n",
       "      <td>0</td>\n",
       "      <td>0</td>\n",
       "      <td>0</td>\n",
       "      <td>1</td>\n",
       "      <td>1.824157</td>\n",
       "      <td>18</td>\n",
       "    </tr>\n",
       "    <tr>\n",
       "      <th>4</th>\n",
       "      <td>0</td>\n",
       "      <td>0</td>\n",
       "      <td>0</td>\n",
       "      <td>0</td>\n",
       "      <td>0</td>\n",
       "      <td>0</td>\n",
       "      <td>0</td>\n",
       "      <td>0</td>\n",
       "      <td>0</td>\n",
       "      <td>0</td>\n",
       "      <td>...</td>\n",
       "      <td>0</td>\n",
       "      <td>0</td>\n",
       "      <td>0</td>\n",
       "      <td>0</td>\n",
       "      <td>1</td>\n",
       "      <td>0</td>\n",
       "      <td>0</td>\n",
       "      <td>0</td>\n",
       "      <td>1.824157</td>\n",
       "      <td>15</td>\n",
       "    </tr>\n",
       "  </tbody>\n",
       "</table>\n",
       "<p>5 rows × 22 columns</p>\n",
       "</div>"
      ],
      "text/plain": [
       "   mariners_home  seahawks_home  sounders_home  trav_holiday  dang_holiday  \\\n",
       "0              0              0              0             0             0   \n",
       "1              0              0              0             0             0   \n",
       "2              0              0              0             0             0   \n",
       "3              0              0              0             0             0   \n",
       "4              0              0              0             0             0   \n",
       "\n",
       "   night  Monday  Saturday  Sunday  Thursday  ...   day_num  zone1  zone2  \\\n",
       "0      0       0         0       0         0  ...         0      0      1   \n",
       "1      0       0         0       0         0  ...         0      0      0   \n",
       "2      0       0         0       0         0  ...         0      1      0   \n",
       "3      0       0         0       0         0  ...         0      0      0   \n",
       "4      0       0         0       0         0  ...         0      0      0   \n",
       "\n",
       "   zone3  zone4  zone5  zone6  zone7  seasonality  freq  \n",
       "0      0      0      0      0      0     1.824157    20  \n",
       "1      0      0      1      0      0     1.824157    35  \n",
       "2      0      0      0      0      0     1.824157    30  \n",
       "3      0      0      0      0      1     1.824157    18  \n",
       "4      0      1      0      0      0     1.824157    15  \n",
       "\n",
       "[5 rows x 22 columns]"
      ]
     },
     "execution_count": 12,
     "metadata": {},
     "output_type": "execute_result"
    }
   ],
   "source": [
    "df3.head()"
   ]
  },
  {
   "cell_type": "code",
   "execution_count": 28,
   "metadata": {
    "collapsed": false
   },
   "outputs": [
    {
     "data": {
      "text/plain": [
       "<matplotlib.text.Text at 0x7f37d777f0d0>"
      ]
     },
     "execution_count": 28,
     "metadata": {},
     "output_type": "execute_result"
    },
    {
     "data": {
      "image/png": "[encoded data removed]",
      "text/plain": [
       "<matplotlib.figure.Figure at 0x7f37d9047450>"
      ]
     },
     "metadata": {},
     "output_type": "display_data"
    }
   ],
   "source": [
    "plt.figure(figsize=(10,8))\n",
    "df3.freq.hist(bins=20)\n",
    "plt.title('Counts of Responses by Observation', fontsize=18)\n",
    "plt.ylabel('Count', fontsize=14)\n",
    "plt.xlabel('Number of Responses for Observation', fontsize=14)"
   ]
  },
  {
   "cell_type": "code",
   "execution_count": 29,
   "metadata": {
    "collapsed": false
   },
   "outputs": [
    {
     "data": {
      "text/plain": [
       "2304"
      ]
     },
     "execution_count": 29,
     "metadata": {},
     "output_type": "execute_result"
    }
   ],
   "source": [
    "df3.day_num.max()"
   ]
  },
  {
   "cell_type": "code",
   "execution_count": 13,
   "metadata": {
    "collapsed": false
   },
   "outputs": [],
   "source": [
    "# Create test and trainging sets\n",
    "df_train = df3[(df3.day_num < 1300) | (df3.day_num > 1600)]\n",
    "df_test = df3[(df3.day_num >= 1300) & (df3.day_num <= 1600)]\n",
    "\n",
    "# Create X and y\n",
    "y_train = df_train.pop('freq')\n",
    "X_train = df_train\n",
    "y_test = df_test.pop('freq')\n",
    "X_test = df_test\n",
    "\n",
    "# Scale X\n",
    "# scaler = StandardScaler(with_mean=False)\n",
    "# X_train = scaler.fit_transform(X_train)\n",
    "# X_test = scaler.transform(X_test)"
   ]
  },
  {
   "cell_type": "code",
   "execution_count": null,
   "metadata": {
    "collapsed": false
   },
   "outputs": [],
   "source": []
  },
  {
   "cell_type": "code",
   "execution_count": 14,
   "metadata": {
    "collapsed": false
   },
   "outputs": [
    {
     "name": "stdout",
     "output_type": "stream",
     "text": [
      "Optimization terminated successfully.\n",
      "         Current function value: 3.147548\n",
      "         Iterations 34\n"
     ]
    }
   ],
   "source": [
    "model = Poisson(y_train, X_train).fit()"
   ]
  },
  {
   "cell_type": "code",
   "execution_count": 15,
   "metadata": {
    "collapsed": false
   },
   "outputs": [
    {
     "data": {
      "text/html": [
       "<table class=\"simpletable\">\n",
       "<caption>Poisson Regression Results</caption>\n",
       "<tr>\n",
       "  <th>Dep. Variable:</th>       <td>freq</td>       <th>  No. Observations:  </th>   <td> 28632</td>   \n",
       "</tr>\n",
       "<tr>\n",
       "  <th>Model:</th>              <td>Poisson</td>     <th>  Df Residuals:      </th>   <td> 28611</td>   \n",
       "</tr>\n",
       "<tr>\n",
       "  <th>Method:</th>               <td>MLE</td>       <th>  Df Model:          </th>   <td>    20</td>   \n",
       "</tr>\n",
       "<tr>\n",
       "  <th>Date:</th>          <td>Mon, 14 Nov 2016</td> <th>  Pseudo R-squ.:     </th>   <td>0.3446</td>   \n",
       "</tr>\n",
       "<tr>\n",
       "  <th>Time:</th>              <td>13:20:37</td>     <th>  Log-Likelihood:    </th>  <td> -90121.</td>  \n",
       "</tr>\n",
       "<tr>\n",
       "  <th>converged:</th>           <td>True</td>       <th>  LL-Null:           </th> <td>-1.3751e+05</td>\n",
       "</tr>\n",
       "<tr>\n",
       "  <th> </th>                      <td> </td>        <th>  LLR p-value:       </th>   <td> 0.000</td>   \n",
       "</tr>\n",
       "</table>\n",
       "<table class=\"simpletable\">\n",
       "<tr>\n",
       "        <td></td>           <th>coef</th>     <th>std err</th>      <th>z</th>      <th>P>|z|</th> <th>[95.0% Conf. Int.]</th> \n",
       "</tr>\n",
       "<tr>\n",
       "  <th>mariners_home</th> <td>    0.0015</td> <td>    0.003</td> <td>    0.444</td> <td> 0.657</td> <td>   -0.005     0.008</td>\n",
       "</tr>\n",
       "<tr>\n",
       "  <th>seahawks_home</th> <td>   -0.0296</td> <td>    0.010</td> <td>   -2.864</td> <td> 0.004</td> <td>   -0.050    -0.009</td>\n",
       "</tr>\n",
       "<tr>\n",
       "  <th>sounders_home</th> <td>    0.0126</td> <td>    0.007</td> <td>    1.782</td> <td> 0.075</td> <td>   -0.001     0.027</td>\n",
       "</tr>\n",
       "<tr>\n",
       "  <th>trav_holiday</th>  <td>   -0.0553</td> <td>    0.011</td> <td>   -4.845</td> <td> 0.000</td> <td>   -0.078    -0.033</td>\n",
       "</tr>\n",
       "<tr>\n",
       "  <th>dang_holiday</th>  <td>    0.1407</td> <td>    0.017</td> <td>    8.086</td> <td> 0.000</td> <td>    0.107     0.175</td>\n",
       "</tr>\n",
       "<tr>\n",
       "  <th>night</th>         <td>    0.2921</td> <td>    0.003</td> <td>   99.652</td> <td> 0.000</td> <td>    0.286     0.298</td>\n",
       "</tr>\n",
       "<tr>\n",
       "  <th>Monday</th>        <td>   -0.0465</td> <td>    0.005</td> <td>   -8.580</td> <td> 0.000</td> <td>   -0.057    -0.036</td>\n",
       "</tr>\n",
       "<tr>\n",
       "  <th>Saturday</th>      <td>    0.0053</td> <td>    0.005</td> <td>    0.974</td> <td> 0.330</td> <td>   -0.005     0.016</td>\n",
       "</tr>\n",
       "<tr>\n",
       "  <th>Sunday</th>        <td>   -0.0106</td> <td>    0.006</td> <td>   -1.898</td> <td> 0.058</td> <td>   -0.022     0.000</td>\n",
       "</tr>\n",
       "<tr>\n",
       "  <th>Thursday</th>      <td>   -0.0351</td> <td>    0.005</td> <td>   -6.502</td> <td> 0.000</td> <td>   -0.046    -0.025</td>\n",
       "</tr>\n",
       "<tr>\n",
       "  <th>Tuesday</th>       <td>   -0.0424</td> <td>    0.005</td> <td>   -7.867</td> <td> 0.000</td> <td>   -0.053    -0.032</td>\n",
       "</tr>\n",
       "<tr>\n",
       "  <th>Wednesday</th>     <td>   -0.0348</td> <td>    0.005</td> <td>   -6.467</td> <td> 0.000</td> <td>   -0.045    -0.024</td>\n",
       "</tr>\n",
       "<tr>\n",
       "  <th>day_num</th>       <td>    0.0001</td> <td> 2.07e-06</td> <td>   69.079</td> <td> 0.000</td> <td>    0.000     0.000</td>\n",
       "</tr>\n",
       "<tr>\n",
       "  <th>zone1</th>         <td>    2.6382</td> <td>    0.006</td> <td>  430.659</td> <td> 0.000</td> <td>    2.626     2.650</td>\n",
       "</tr>\n",
       "<tr>\n",
       "  <th>zone2</th>         <td>    2.4137</td> <td>    0.006</td> <td>  377.934</td> <td> 0.000</td> <td>    2.401     2.426</td>\n",
       "</tr>\n",
       "<tr>\n",
       "  <th>zone3</th>         <td>    2.0130</td> <td>    0.007</td> <td>  288.156</td> <td> 0.000</td> <td>    1.999     2.027</td>\n",
       "</tr>\n",
       "<tr>\n",
       "  <th>zone4</th>         <td>    2.5833</td> <td>    0.006</td> <td>  417.649</td> <td> 0.000</td> <td>    2.571     2.595</td>\n",
       "</tr>\n",
       "<tr>\n",
       "  <th>zone5</th>         <td>    2.9808</td> <td>    0.006</td> <td>  512.984</td> <td> 0.000</td> <td>    2.969     2.992</td>\n",
       "</tr>\n",
       "<tr>\n",
       "  <th>zone6</th>         <td>    2.2049</td> <td>    0.007</td> <td>  330.300</td> <td> 0.000</td> <td>    2.192     2.218</td>\n",
       "</tr>\n",
       "<tr>\n",
       "  <th>zone7</th>         <td>    2.3588</td> <td>    0.006</td> <td>  365.252</td> <td> 0.000</td> <td>    2.346     2.372</td>\n",
       "</tr>\n",
       "<tr>\n",
       "  <th>seasonality</th>   <td>    0.0519</td> <td>    0.002</td> <td>   23.996</td> <td> 0.000</td> <td>    0.048     0.056</td>\n",
       "</tr>\n",
       "</table>"
      ],
      "text/plain": [
       "<class 'statsmodels.iolib.summary.Summary'>\n",
       "\"\"\"\n",
       "                          Poisson Regression Results                          \n",
       "==============================================================================\n",
       "Dep. Variable:                   freq   No. Observations:                28632\n",
       "Model:                        Poisson   Df Residuals:                    28611\n",
       "Method:                           MLE   Df Model:                           20\n",
       "Date:                Mon, 14 Nov 2016   Pseudo R-squ.:                  0.3446\n",
       "Time:                        13:20:37   Log-Likelihood:                -90121.\n",
       "converged:                       True   LL-Null:                   -1.3751e+05\n",
       "                                        LLR p-value:                     0.000\n",
       "=================================================================================\n",
       "                    coef    std err          z      P>|z|      [95.0% Conf. Int.]\n",
       "---------------------------------------------------------------------------------\n",
       "mariners_home     0.0015      0.003      0.444      0.657        -0.005     0.008\n",
       "seahawks_home    -0.0296      0.010     -2.864      0.004        -0.050    -0.009\n",
       "sounders_home     0.0126      0.007      1.782      0.075        -0.001     0.027\n",
       "trav_holiday     -0.0553      0.011     -4.845      0.000        -0.078    -0.033\n",
       "dang_holiday      0.1407      0.017      8.086      0.000         0.107     0.175\n",
       "night             0.2921      0.003     99.652      0.000         0.286     0.298\n",
       "Monday           -0.0465      0.005     -8.580      0.000        -0.057    -0.036\n",
       "Saturday          0.0053      0.005      0.974      0.330        -0.005     0.016\n",
       "Sunday           -0.0106      0.006     -1.898      0.058        -0.022     0.000\n",
       "Thursday         -0.0351      0.005     -6.502      0.000        -0.046    -0.025\n",
       "Tuesday          -0.0424      0.005     -7.867      0.000        -0.053    -0.032\n",
       "Wednesday        -0.0348      0.005     -6.467      0.000        -0.045    -0.024\n",
       "day_num           0.0001   2.07e-06     69.079      0.000         0.000     0.000\n",
       "zone1             2.6382      0.006    430.659      0.000         2.626     2.650\n",
       "zone2             2.4137      0.006    377.934      0.000         2.401     2.426\n",
       "zone3             2.0130      0.007    288.156      0.000         1.999     2.027\n",
       "zone4             2.5833      0.006    417.649      0.000         2.571     2.595\n",
       "zone5             2.9808      0.006    512.984      0.000         2.969     2.992\n",
       "zone6             2.2049      0.007    330.300      0.000         2.192     2.218\n",
       "zone7             2.3588      0.006    365.252      0.000         2.346     2.372\n",
       "seasonality       0.0519      0.002     23.996      0.000         0.048     0.056\n",
       "=================================================================================\n",
       "\"\"\""
      ]
     },
     "execution_count": 15,
     "metadata": {},
     "output_type": "execute_result"
    }
   ],
   "source": [
    "model.summary()"
   ]
  },
  {
   "cell_type": "code",
   "execution_count": 27,
   "metadata": {
    "collapsed": false
   },
   "outputs": [],
   "source": [
    "y_hat = model.predict(X_test) "
   ]
  },
  {
   "cell_type": "code",
   "execution_count": 28,
   "metadata": {
    "collapsed": false
   },
   "outputs": [
    {
     "data": {
      "text/plain": [
       "24.313549254315017"
      ]
     },
     "execution_count": 28,
     "metadata": {},
     "output_type": "execute_result"
    }
   ],
   "source": [
    "mean_squared_error(y_test, y_hat)"
   ]
  },
  {
   "cell_type": "code",
   "execution_count": 33,
   "metadata": {
    "collapsed": false
   },
   "outputs": [
    {
     "data": {
      "text/plain": [
       "<matplotlib.axes._subplots.AxesSubplot at 0x7fa3e1e74410>"
      ]
     },
     "execution_count": 33,
     "metadata": {},
     "output_type": "execute_result"
    },
    {
     "data": {
      "image/png": "[encoded data removed]",
      "text/plain": [
       "<matplotlib.figure.Figure at 0x7fa3e1f0a450>"
      ]
     },
     "metadata": {},
     "output_type": "display_data"
    }
   ],
   "source": [
    "differences = y_hat - y_test\n",
    "differences.hist(bins=30)"
   ]
  },
  {
   "cell_type": "code",
   "execution_count": 55,
   "metadata": {
    "collapsed": false
   },
   "outputs": [
    {
     "name": "stdout",
     "output_type": "stream",
     "text": [
      "Optimization terminated successfully.    (Exit mode 0)\n",
      "            Current function value: 3.1476107618\n",
      "            Iterations: 216\n",
      "            Function evaluations: 227\n",
      "            Gradient evaluations: 216\n",
      "QC check did not pass for 9 out of 21 parameters\n",
      "Try increasing solver accuracy or number of iterations, decreasing alpha, or switch solvers\n",
      "Could not trim params automatically due to failed QC check.  Trimming using trim_mode == 'size' will still work.\n"
     ]
    }
   ],
   "source": [
    "model_reg1 = Poisson(y_train, X_train).fit_regularized(method='l1', alpha=201)"
   ]
  },
  {
   "cell_type": "code",
   "execution_count": 56,
   "metadata": {
    "collapsed": false
   },
   "outputs": [
    {
     "data": {
      "text/html": [
       "<table class=\"simpletable\">\n",
       "<caption>Poisson Regression Results</caption>\n",
       "<tr>\n",
       "  <th>Dep. Variable:</th>       <td>freq</td>       <th>  No. Observations:  </th>   <td> 28632</td>   \n",
       "</tr>\n",
       "<tr>\n",
       "  <th>Model:</th>              <td>Poisson</td>     <th>  Df Residuals:      </th>   <td> 28611</td>   \n",
       "</tr>\n",
       "<tr>\n",
       "  <th>Method:</th>               <td>MLE</td>       <th>  Df Model:          </th>   <td>    20</td>   \n",
       "</tr>\n",
       "<tr>\n",
       "  <th>Date:</th>          <td>Mon, 14 Nov 2016</td> <th>  Pseudo R-squ.:     </th>   <td>0.3446</td>   \n",
       "</tr>\n",
       "<tr>\n",
       "  <th>Time:</th>              <td>13:50:58</td>     <th>  Log-Likelihood:    </th>  <td> -90121.</td>  \n",
       "</tr>\n",
       "<tr>\n",
       "  <th>converged:</th>           <td>True</td>       <th>  LL-Null:           </th> <td>-1.3751e+05</td>\n",
       "</tr>\n",
       "<tr>\n",
       "  <th> </th>                      <td> </td>        <th>  LLR p-value:       </th>   <td> 0.000</td>   \n",
       "</tr>\n",
       "</table>\n",
       "<table class=\"simpletable\">\n",
       "<tr>\n",
       "        <td></td>           <th>coef</th>     <th>std err</th>      <th>z</th>      <th>P>|z|</th> <th>[95.0% Conf. Int.]</th> \n",
       "</tr>\n",
       "<tr>\n",
       "  <th>mariners_home</th> <td>    0.0015</td> <td>    0.003</td> <td>    0.444</td> <td> 0.657</td> <td>   -0.005     0.008</td>\n",
       "</tr>\n",
       "<tr>\n",
       "  <th>seahawks_home</th> <td>   -0.0296</td> <td>    0.010</td> <td>   -2.863</td> <td> 0.004</td> <td>   -0.050    -0.009</td>\n",
       "</tr>\n",
       "<tr>\n",
       "  <th>sounders_home</th> <td>    0.0126</td> <td>    0.007</td> <td>    1.781</td> <td> 0.075</td> <td>   -0.001     0.027</td>\n",
       "</tr>\n",
       "<tr>\n",
       "  <th>trav_holiday</th>  <td>   -0.0553</td> <td>    0.011</td> <td>   -4.844</td> <td> 0.000</td> <td>   -0.078    -0.033</td>\n",
       "</tr>\n",
       "<tr>\n",
       "  <th>dang_holiday</th>  <td>    0.1407</td> <td>    0.017</td> <td>    8.084</td> <td> 0.000</td> <td>    0.107     0.175</td>\n",
       "</tr>\n",
       "<tr>\n",
       "  <th>night</th>         <td>    0.2921</td> <td>    0.003</td> <td>   99.652</td> <td> 0.000</td> <td>    0.286     0.298</td>\n",
       "</tr>\n",
       "<tr>\n",
       "  <th>Monday</th>        <td>   -0.0465</td> <td>    0.005</td> <td>   -8.577</td> <td> 0.000</td> <td>   -0.057    -0.036</td>\n",
       "</tr>\n",
       "<tr>\n",
       "  <th>Saturday</th>      <td>    0.0053</td> <td>    0.005</td> <td>    0.977</td> <td> 0.329</td> <td>   -0.005     0.016</td>\n",
       "</tr>\n",
       "<tr>\n",
       "  <th>Sunday</th>        <td>   -0.0106</td> <td>    0.006</td> <td>   -1.895</td> <td> 0.058</td> <td>   -0.022     0.000</td>\n",
       "</tr>\n",
       "<tr>\n",
       "  <th>Thursday</th>      <td>   -0.0351</td> <td>    0.005</td> <td>   -6.498</td> <td> 0.000</td> <td>   -0.046    -0.025</td>\n",
       "</tr>\n",
       "<tr>\n",
       "  <th>Tuesday</th>       <td>   -0.0424</td> <td>    0.005</td> <td>   -7.864</td> <td> 0.000</td> <td>   -0.053    -0.032</td>\n",
       "</tr>\n",
       "<tr>\n",
       "  <th>Wednesday</th>     <td>   -0.0347</td> <td>    0.005</td> <td>   -6.464</td> <td> 0.000</td> <td>   -0.045    -0.024</td>\n",
       "</tr>\n",
       "<tr>\n",
       "  <th>day_num</th>       <td>    0.0001</td> <td> 2.07e-06</td> <td>   69.081</td> <td> 0.000</td> <td>    0.000     0.000</td>\n",
       "</tr>\n",
       "<tr>\n",
       "  <th>zone1</th>         <td>    2.6382</td> <td>    0.006</td> <td>  430.653</td> <td> 0.000</td> <td>    2.626     2.650</td>\n",
       "</tr>\n",
       "<tr>\n",
       "  <th>zone2</th>         <td>    2.4137</td> <td>    0.006</td> <td>  377.929</td> <td> 0.000</td> <td>    2.401     2.426</td>\n",
       "</tr>\n",
       "<tr>\n",
       "  <th>zone3</th>         <td>    2.0129</td> <td>    0.007</td> <td>  288.152</td> <td> 0.000</td> <td>    1.999     2.027</td>\n",
       "</tr>\n",
       "<tr>\n",
       "  <th>zone4</th>         <td>    2.5833</td> <td>    0.006</td> <td>  417.644</td> <td> 0.000</td> <td>    2.571     2.595</td>\n",
       "</tr>\n",
       "<tr>\n",
       "  <th>zone5</th>         <td>    2.9807</td> <td>    0.006</td> <td>  512.979</td> <td> 0.000</td> <td>    2.969     2.992</td>\n",
       "</tr>\n",
       "<tr>\n",
       "  <th>zone6</th>         <td>    2.2049</td> <td>    0.007</td> <td>  330.296</td> <td> 0.000</td> <td>    2.192     2.218</td>\n",
       "</tr>\n",
       "<tr>\n",
       "  <th>zone7</th>         <td>    2.3588</td> <td>    0.006</td> <td>  365.247</td> <td> 0.000</td> <td>    2.346     2.371</td>\n",
       "</tr>\n",
       "<tr>\n",
       "  <th>seasonality</th>   <td>    0.0519</td> <td>    0.002</td> <td>   23.998</td> <td> 0.000</td> <td>    0.048     0.056</td>\n",
       "</tr>\n",
       "</table>"
      ],
      "text/plain": [
       "<class 'statsmodels.iolib.summary.Summary'>\n",
       "\"\"\"\n",
       "                          Poisson Regression Results                          \n",
       "==============================================================================\n",
       "Dep. Variable:                   freq   No. Observations:                28632\n",
       "Model:                        Poisson   Df Residuals:                    28611\n",
       "Method:                           MLE   Df Model:                           20\n",
       "Date:                Mon, 14 Nov 2016   Pseudo R-squ.:                  0.3446\n",
       "Time:                        13:50:58   Log-Likelihood:                -90121.\n",
       "converged:                       True   LL-Null:                   -1.3751e+05\n",
       "                                        LLR p-value:                     0.000\n",
       "=================================================================================\n",
       "                    coef    std err          z      P>|z|      [95.0% Conf. Int.]\n",
       "---------------------------------------------------------------------------------\n",
       "mariners_home     0.0015      0.003      0.444      0.657        -0.005     0.008\n",
       "seahawks_home    -0.0296      0.010     -2.863      0.004        -0.050    -0.009\n",
       "sounders_home     0.0126      0.007      1.781      0.075        -0.001     0.027\n",
       "trav_holiday     -0.0553      0.011     -4.844      0.000        -0.078    -0.033\n",
       "dang_holiday      0.1407      0.017      8.084      0.000         0.107     0.175\n",
       "night             0.2921      0.003     99.652      0.000         0.286     0.298\n",
       "Monday           -0.0465      0.005     -8.577      0.000        -0.057    -0.036\n",
       "Saturday          0.0053      0.005      0.977      0.329        -0.005     0.016\n",
       "Sunday           -0.0106      0.006     -1.895      0.058        -0.022     0.000\n",
       "Thursday         -0.0351      0.005     -6.498      0.000        -0.046    -0.025\n",
       "Tuesday          -0.0424      0.005     -7.864      0.000        -0.053    -0.032\n",
       "Wednesday        -0.0347      0.005     -6.464      0.000        -0.045    -0.024\n",
       "day_num           0.0001   2.07e-06     69.081      0.000         0.000     0.000\n",
       "zone1             2.6382      0.006    430.653      0.000         2.626     2.650\n",
       "zone2             2.4137      0.006    377.929      0.000         2.401     2.426\n",
       "zone3             2.0129      0.007    288.152      0.000         1.999     2.027\n",
       "zone4             2.5833      0.006    417.644      0.000         2.571     2.595\n",
       "zone5             2.9807      0.006    512.979      0.000         2.969     2.992\n",
       "zone6             2.2049      0.007    330.296      0.000         2.192     2.218\n",
       "zone7             2.3588      0.006    365.247      0.000         2.346     2.371\n",
       "seasonality       0.0519      0.002     23.998      0.000         0.048     0.056\n",
       "=================================================================================\n",
       "\"\"\""
      ]
     },
     "execution_count": 56,
     "metadata": {},
     "output_type": "execute_result"
    }
   ],
   "source": [
    "model_reg1.summary()"
   ]
  },
  {
   "cell_type": "code",
   "execution_count": 57,
   "metadata": {
    "collapsed": true
   },
   "outputs": [],
   "source": [
    "y_hat_reg1 = model_reg1.predict(X_test) "
   ]
  },
  {
   "cell_type": "code",
   "execution_count": 58,
   "metadata": {
    "collapsed": false
   },
   "outputs": [
    {
     "data": {
      "text/plain": [
       "24.313438578191683"
      ]
     },
     "execution_count": 58,
     "metadata": {},
     "output_type": "execute_result"
    }
   ],
   "source": [
    "mean_squared_error(y_test, y_hat_reg1)"
   ]
  },
  {
   "cell_type": "code",
   "execution_count": 59,
   "metadata": {
    "collapsed": false
   },
   "outputs": [
    {
     "data": {
      "text/plain": [
       "<matplotlib.axes._subplots.AxesSubplot at 0x7fa3e1c65ed0>"
      ]
     },
     "execution_count": 59,
     "metadata": {},
     "output_type": "execute_result"
    },
    {
     "data": {
      "image/png": "[encoded data removed]",
      "text/plain": [
       "<matplotlib.figure.Figure at 0x7fa3e1c65810>"
      ]
     },
     "metadata": {},
     "output_type": "display_data"
    }
   ],
   "source": [
    "differences_reg1 = y_hat_reg1 - y_test\n",
    "differences_reg1.hist(bins=30)"
   ]
  },
  {
   "cell_type": "code",
   "execution_count": null,
   "metadata": {
    "collapsed": true
   },
   "outputs": [],
   "source": []
  },
  {
   "cell_type": "code",
   "execution_count": null,
   "metadata": {
    "collapsed": true
   },
   "outputs": [],
   "source": []
  },
  {
   "cell_type": "code",
   "execution_count": null,
   "metadata": {
    "collapsed": true
   },
   "outputs": [],
   "source": []
  },
  {
   "cell_type": "code",
   "execution_count": 45,
   "metadata": {
    "collapsed": false
   },
   "outputs": [],
   "source": [
    "'''\n",
    "Questions:\n",
    "1. Scaling not required?\n",
    "2. Dep Variable freq vs count?\n",
    "3. Refactor day in 12 hr rather than 24 hr?\n",
    "'''"
   ]
  },
  {
   "cell_type": "code",
   "execution_count": 19,
   "metadata": {
    "collapsed": true
   },
   "outputs": [],
   "source": [
    "model_boosting = GradientBoostingRegressor(subsample=0.5, n_estimators=10000, learning_rate=0.001)"
   ]
  },
  {
   "cell_type": "code",
   "execution_count": 20,
   "metadata": {
    "collapsed": false
   },
   "outputs": [
    {
     "data": {
      "text/plain": [
       "GradientBoostingRegressor(alpha=0.9, init=None, learning_rate=0.001,\n",
       "             loss='ls', max_depth=3, max_features=None,\n",
       "             max_leaf_nodes=None, min_samples_leaf=1, min_samples_split=2,\n",
       "             min_weight_fraction_leaf=0.0, n_estimators=10000,\n",
       "             presort='auto', random_state=None, subsample=0.5, verbose=0,\n",
       "             warm_start=False)"
      ]
     },
     "execution_count": 20,
     "metadata": {},
     "output_type": "execute_result"
    }
   ],
   "source": [
    "model_boosting.fit(X_train, y_train)"
   ]
  },
  {
   "cell_type": "code",
   "execution_count": 21,
   "metadata": {
    "collapsed": true
   },
   "outputs": [],
   "source": [
    "y_hat_boost = model_boosting.predict(X_test)"
   ]
  },
  {
   "cell_type": "code",
   "execution_count": 22,
   "metadata": {
    "collapsed": false
   },
   "outputs": [
    {
     "data": {
      "text/plain": [
       "30.693052991046358"
      ]
     },
     "execution_count": 22,
     "metadata": {},
     "output_type": "execute_result"
    }
   ],
   "source": [
    "mean_squared_error(y_test, y_hat_boost)"
   ]
  },
  {
   "cell_type": "code",
   "execution_count": 23,
   "metadata": {
    "collapsed": true
   },
   "outputs": [],
   "source": [
    "model_forest = RandomForestRegressor(n_jobs=-1, n_estimators=1000, max_features='sqrt')"
   ]
  },
  {
   "cell_type": "code",
   "execution_count": 24,
   "metadata": {
    "collapsed": false
   },
   "outputs": [
    {
     "data": {
      "text/plain": [
       "RandomForestRegressor(bootstrap=True, criterion='mse', max_depth=None,\n",
       "           max_features='sqrt', max_leaf_nodes=None, min_samples_leaf=1,\n",
       "           min_samples_split=2, min_weight_fraction_leaf=0.0,\n",
       "           n_estimators=1000, n_jobs=-1, oob_score=False,\n",
       "           random_state=None, verbose=0, warm_start=False)"
      ]
     },
     "execution_count": 24,
     "metadata": {},
     "output_type": "execute_result"
    }
   ],
   "source": [
    "model_forest.fit(X_train, y_train, )"
   ]
  },
  {
   "cell_type": "code",
   "execution_count": 25,
   "metadata": {
    "collapsed": true
   },
   "outputs": [],
   "source": [
    "y_hat_for = model_forest.predict(X_test)"
   ]
  },
  {
   "cell_type": "code",
   "execution_count": 26,
   "metadata": {
    "collapsed": false
   },
   "outputs": [
    {
     "data": {
      "text/plain": [
       "26.096926519196025"
      ]
     },
     "execution_count": 26,
     "metadata": {},
     "output_type": "execute_result"
    }
   ],
   "source": [
    "mean_squared_error(y_test, y_hat_for)"
   ]
  },
  {
   "cell_type": "code",
   "execution_count": null,
   "metadata": {
    "collapsed": true
   },
   "outputs": [],
   "source": []
  }
 ],
 "metadata": {
  "anaconda-cloud": {},
  "kernelspec": {
   "display_name": "Python [conda root]",
   "language": "python",
   "name": "conda-root-py"
  },
  "language_info": {
   "codemirror_mode": {
    "name": "ipython",
    "version": 2
   },
   "file_extension": ".py",
   "mimetype": "text/x-python",
   "name": "python",
   "nbconvert_exporter": "python",
   "pygments_lexer": "ipython2",
   "version": "2.7.12"
  }
 },
 "nbformat": 4,
 "nbformat_minor": 1
}

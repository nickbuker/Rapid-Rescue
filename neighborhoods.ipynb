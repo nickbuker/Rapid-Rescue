{
 "cells": [
  {
   "cell_type": "code",
   "execution_count": 1,
   "metadata": {
    "collapsed": false
   },
   "outputs": [],
   "source": [
    "from __future__ import division\n",
    "import pandas as pd\n",
    "import numpy as np\n",
    "from matplotlib.patches import Polygon\n",
    "import matplotlib\n",
    "from matplotlib.collections import PatchCollection\n",
    "from mpl_toolkits.basemap import Basemap\n",
    "from shapely.geometry import Point, Polygon, MultiPoint, MultiPolygon\n",
    "from shapely.prepared import prep\n",
    "from descartes import PolygonPatch\n",
    "import matplotlib.pyplot as plt\n",
    "from collections import defaultdict\n",
    "\n",
    "% matplotlib inline"
   ]
  },
  {
   "cell_type": "code",
   "execution_count": 2,
   "metadata": {
    "collapsed": false
   },
   "outputs": [],
   "source": [
    "# Create a Dataframe and drop extra column\n",
    "df = pd.read_csv('./data/features_seattle_911_no_dup.csv', low_memory=False)\n",
    "df.drop(['Unnamed: 0'], axis=1, inplace=True)\n",
    "df.Datetime = pd.to_datetime(df.Datetime)"
   ]
  },
  {
   "cell_type": "code",
   "execution_count": null,
   "metadata": {
    "collapsed": false
   },
   "outputs": [],
   "source": [
    "def plot_prepper(m, shapefilename, df_key):\n",
    "    '''\n",
    "    Generate dataframe for plotting\n",
    "    '''\n",
    "    _out = m.readshapefile(shapefilename, name='seattle', drawbounds=False, color='none', zorder=2)\n",
    "    # set up a map dataframe for neighborhood outlines\n",
    "    cent_lons = [float((Polygon(points).centroid.wkt).split()[1][1:]) for points in m.seattle]\n",
    "    cent_lats = [float((Polygon(points).centroid.wkt).strip(')').split()[2]) for points in m.seattle]\n",
    "\n",
    "    df_poly = pd.DataFrame({\n",
    "        'poly': [Polygon(points) for points in m.seattle],\n",
    "        'name': [item[df_key] for item in m.seattle_info],\n",
    "    })\n",
    "    df_poly['centroid_1'] = cent_lons\n",
    "    df_poly['centroid_2'] = cent_lats\n",
    "    return _out, df_poly\n",
    "\n",
    "# Read in neighborhood shape file\n",
    "hood_shapefilename = './neighborhoods_shape/WGS84/Neighborhoods'\n",
    "hood_coords = (-122.43595589761988, 47.49551362397606, \n",
    "               -122.23604445458412, 47.73416494684497)\n",
    "\n",
    "w, h = hood_coords[2] - hood_coords[0], hood_coords[3] - hood_coords[1]\n",
    "extra = 0.005\n",
    "\n",
    "# Initialize the plot\n",
    "figwidth = 12\n",
    "fig = plt.figure(figsize=(figwidth, figwidth*h/w))\n",
    "ax = fig.add_subplot(111, axisbg='w', frame_on=False)\n",
    "m = Basemap(\n",
    "    projection='tmerc', ellps='WGS84',\n",
    "    lon_0=np.mean([hood_coords[0], hood_coords[2]]),\n",
    "    lat_0=np.mean([hood_coords[1], hood_coords[3]]),\n",
    "    llcrnrlon=hood_coords[0] - extra * w,\n",
    "    llcrnrlat=hood_coords[1] - (extra * h),\n",
    "    urcrnrlon=hood_coords[2] + extra * w,\n",
    "    urcrnrlat=hood_coords[3] + (extra * h),\n",
    "    resolution='i',  suppress_ticks=True)\n",
    "\n",
    "# Get dataframe for plotting\n",
    "_out, df_map = plot_prepper(m, hood_shapefilename, 'S_HOOD')\n",
    "nbr_names = df_map['name'].unique()\n",
    "\n",
    "# Draw neighborhoods with grey outlines\n",
    "df_map['patches'] = df_map['poly'].map(lambda x: PolygonPatch(x, ec='#111111', lw=.8, alpha=1., zorder=4))\n",
    "pc = PatchCollection(df_map['patches'], match_original=True)\n",
    "pc.set_facecolor('w')\n",
    "ax.add_collection(pc)\n",
    "\n",
    "# Scale the map\n",
    "m.drawmapscale(hood_coords[0] + 0.08, hood_coords[1] + -0.01, hood_coords[0], hood_coords[1], 10.,\n",
    "               barstyle='fancy',\n",
    "               fillcolor1='w', fillcolor2='#555555', zorder=5, ax=ax,)\n",
    "\n",
    "lons = df.Longitude\n",
    "lats = df.Latitude\n",
    "\n",
    "pt = []\n",
    "xs = []\n",
    "ys = []\n",
    "\n",
    "'''\n",
    "This plots all the latitude/longitude points\n",
    "'''\n",
    "for mapped_x, mapped_y in zip(lons, lats):\n",
    "    xpt, ypt = m(mapped_x, mapped_y)\n",
    "    plt.plot(xpt, ypt, '.', alpha=0.01, color='r')\n",
    "    pt.append(Point(xpt, ypt))\n",
    "    xs.append(xpt)\n",
    "    ys.append(ypt)\n",
    "\n",
    "Labels = []\n",
    "nmlist = []\n",
    "\n",
    "'''\n",
    "THIS IS THE PART THAT CHECKS WHICH NEIGHBORHOOD A POINT IS IN\n",
    "'''\n",
    "for polygon in df_map['poly']:\n",
    "    nm = df_map.loc[df_map['poly'] == polygon, 'name'].iloc[0]\n",
    "    if len(nm.strip()) < 4 or nm in nmlist:\n",
    "        continue\n",
    "    nmlist.append(nm)\n",
    "    for i, p in enumerate(pt):\n",
    "        Labels.append('Unknown')\n",
    "        if polygon.contains(p):\n",
    "            Labels[i] = nm\n",
    "\n",
    "# Add neighborhood names\n",
    "nml = []\n",
    "for i, lon in enumerate(df_map['centroid_1'].values):\n",
    "    if df_map['name'].values[i] in nml:\n",
    "        continue\n",
    "    nml.append(df_map['name'].values[i])\n",
    "    if len(df_map['name'].values[i]) > 3:\n",
    "        plt.text(lon, df_map['centroid_2'].values[i], df_map['name'].values[i], size=7, ha='center')\n",
    "\n",
    "ax.axes.get_xaxis().set_visible(False)\n",
    "plt.savefig('./images/seattle_911_neighborhoods.png')\n"
   ]
  },
  {
   "cell_type": "code",
   "execution_count": null,
   "metadata": {
    "collapsed": false
   },
   "outputs": [],
   "source": [
    "if 'Unknown' in Labels:\n",
    "    print 'yes'\n",
    "if 'Unknown' not in Labels:\n",
    "    print 'no'"
   ]
  },
  {
   "cell_type": "code",
   "execution_count": null,
   "metadata": {
    "collapsed": true
   },
   "outputs": [],
   "source": [
    "len(Labels)"
   ]
  },
  {
   "cell_type": "code",
   "execution_count": null,
   "metadata": {
    "collapsed": true
   },
   "outputs": [],
   "source": [
    "df['neighborhood'] = Labels"
   ]
  },
  {
   "cell_type": "code",
   "execution_count": null,
   "metadata": {
    "collapsed": true
   },
   "outputs": [],
   "source": [
    "df.to_csv(\"./data/clean_seattle_911_no_dup_hoods.csv\")"
   ]
  }
 ],
 "metadata": {
  "anaconda-cloud": {},
  "kernelspec": {
   "display_name": "Python [conda root]",
   "language": "python",
   "name": "conda-root-py"
  },
  "language_info": {
   "codemirror_mode": {
    "name": "ipython",
    "version": 2
   },
   "file_extension": ".py",
   "mimetype": "text/x-python",
   "name": "python",
   "nbconvert_exporter": "python",
   "pygments_lexer": "ipython2",
   "version": "2.7.12"
  }
 },
 "nbformat": 4,
 "nbformat_minor": 1
}

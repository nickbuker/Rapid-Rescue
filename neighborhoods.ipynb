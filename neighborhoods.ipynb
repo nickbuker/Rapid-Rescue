{
 "cells": [
  {
   "cell_type": "code",
   "execution_count": 3,
   "metadata": {
    "collapsed": false
   },
   "outputs": [],
   "source": [
    "from __future__ import division\n",
    "import pandas as pd\n",
    "import numpy as np\n",
    "from matplotlib.patches import Polygon\n",
    "import matplotlib\n",
    "from matplotlib.collections import PatchCollection\n",
    "from mpl_toolkits.basemap import Basemap\n",
    "from shapely.geometry import Point, Polygon, MultiPoint, MultiPolygon\n",
    "from shapely.prepared import prep\n",
    "from descartes import PolygonPatch\n",
    "import matplotlib.pyplot as plt\n",
    "from collections import defaultdict\n",
    "\n",
    "% matplotlib inline"
   ]
  },
  {
   "cell_type": "code",
   "execution_count": 24,
   "metadata": {
    "collapsed": false
   },
   "outputs": [],
   "source": [
    "# Create a Dataframe and drop extra column\n",
    "df = pd.read_csv('./data/features_seattle_911_no_dup.csv', low_memory=False)\n",
    "df.drop(['Unnamed: 0'], axis=1, inplace=True)\n",
    "df.Datetime = pd.to_datetime(df.Datetime)"
   ]
  },
  {
   "cell_type": "code",
   "execution_count": null,
   "metadata": {
    "collapsed": false,
    "scrolled": true
   },
   "outputs": [
    {
     "name": "stdout",
     "output_type": "stream",
     "text": [
      "0\n",
      "50000\n",
      "100000\n",
      "150000\n",
      "200000\n",
      "250000\n",
      "300000\n",
      "350000\n",
      "400000\n",
      "450000\n",
      "500000\n",
      "550000\n"
     ]
    }
   ],
   "source": [
    "def plot_prepper(m, shapefilename, df_key):\n",
    "    '''\n",
    "    Generate dataframe for plotting\n",
    "    '''\n",
    "    _out = m.readshapefile(shapefilename, name='seattle', drawbounds=False, color='none', zorder=2)\n",
    "    # set up a map dataframe for neighborhood outlines\n",
    "    cent_lons = [float((Polygon(points).centroid.wkt).split()[1][1:]) for points in m.seattle]\n",
    "    cent_lats = [float((Polygon(points).centroid.wkt).strip(')').split()[2]) for points in m.seattle]\n",
    "\n",
    "    df_poly = pd.DataFrame({\n",
    "        'poly': [Polygon(points) for points in m.seattle],\n",
    "        'name': [item[df_key] for item in m.seattle_info],\n",
    "    })\n",
    "    df_poly['centroid_1'] = cent_lons\n",
    "    df_poly['centroid_2'] = cent_lats\n",
    "    return _out, df_poly\n",
    "\n",
    "# Read in neighborhood shape file\n",
    "hood_shapefilename = './neighborhoods_shape/WGS84/Neighborhoods'\n",
    "hood_coords = (-122.43595589761988, 47.49551362397606, \n",
    "               -122.23604445458412, 47.73416494684497)\n",
    "\n",
    "w, h = hood_coords[2] - hood_coords[0], hood_coords[3] - hood_coords[1]\n",
    "extra = 0.005\n",
    "\n",
    "# Initialize the plot\n",
    "figwidth = 12\n",
    "fig = plt.figure(figsize=(figwidth, figwidth*h/w))\n",
    "ax = fig.add_subplot(111, axisbg='w', frame_on=False)\n",
    "m = Basemap(projection='tmerc', ellps='WGS84',\n",
    "            lon_0=np.mean([hood_coords[0], hood_coords[2]]),\n",
    "            lat_0=np.mean([hood_coords[1], hood_coords[3]]),\n",
    "            llcrnrlon=hood_coords[0] - extra * w,\n",
    "            llcrnrlat=hood_coords[1] - (extra * h),\n",
    "            urcrnrlon=hood_coords[2] + extra * w,\n",
    "            urcrnrlat=hood_coords[3] + (extra * h),\n",
    "            resolution='i',  suppress_ticks=True)\n",
    "\n",
    "# Get dataframe for plotting\n",
    "_out, df_map = plot_prepper(m, hood_shapefilename, 'S_HOOD')\n",
    "nbr_names = df_map['name'].unique()\n",
    "\n",
    "# Draw neighborhoods with grey outlines\n",
    "df_map['patches'] = df_map['poly'].map(lambda x: PolygonPatch(x, ec='#050505', lw=.8, alpha=1., zorder=4))\n",
    "pc = PatchCollection(df_map['patches'], match_original=True)\n",
    "pc.set_facecolor('w')\n",
    "ax.add_collection(pc)\n",
    "\n",
    "# Scale the map\n",
    "m.drawmapscale(hood_coords[0] + 0.08, hood_coords[1] + -0.01, \n",
    "               hood_coords[0], hood_coords[1], 10., barstyle='fancy',\n",
    "               fillcolor1='w', fillcolor2='#555555', zorder=5, ax=ax,)\n",
    "\n",
    "lons = df.Longitude\n",
    "lats = df.Latitude\n",
    "\n",
    "pt = []\n",
    "xs = []\n",
    "ys = []\n",
    "\n",
    "'''\n",
    "This plots all the latitude/longitude points\n",
    "'''\n",
    "for mapped_x, mapped_y in zip(lons, lats):\n",
    "    xpt, ypt = m(mapped_x, mapped_y)\n",
    "    plt.plot(xpt, ypt, '.', markersize=5, alpha=0.03, color='r')\n",
    "    pt.append(Point(xpt, ypt))\n",
    "    xs.append(xpt)\n",
    "    ys.append(ypt)\n",
    "\n",
    "Labels = []\n",
    "nmlist = []\n",
    "\n",
    "'''\n",
    "Checks the neighborhood of point\n",
    "'''\n",
    "# Creates list of neighborhoods\n",
    "for polygon in df_map['poly']:\n",
    "    nm = df_map.loc[df_map['poly'] == polygon, 'name'].iloc[0]\n",
    "    if len(nm.strip()) < 4 or nm in nmlist:\n",
    "        continue\n",
    "    nmlist.append(nm)\n",
    "\n",
    "\"\"\"\n",
    "Determines neighborhood of point\n",
    "\"\"\"\n",
    "for i, p in enumerate(pt):\n",
    "    # Create Unknown placeholder to capture points no in a neighborhood\n",
    "    Labels.append('Unknown')\n",
    "    # Tracks progress\n",
    "    if i % 50000 == 0:\n",
    "        print i\n",
    "    # Creates polygon and if pt in polygon records neighborhood name\n",
    "    for j, row in df_map.iterrows():\n",
    "        polygon = row['poly']\n",
    "        nm = row[0]\n",
    "        if polygon.contains(p):\n",
    "            Labels[i] = nm\n",
    "\n",
    "# Add neighborhood names\n",
    "nml = []\n",
    "for i, lon in enumerate(df_map['centroid_1'].values):\n",
    "    if df_map['name'].values[i] in nml:\n",
    "        continue\n",
    "    nml.append(df_map['name'].values[i])\n",
    "    if len(df_map['name'].values[i]) > 3:\n",
    "        plt.text(lon, df_map['centroid_2'].values[i], df_map['name'].values[i], size=7, ha='center')\n",
    "\n",
    "ax.axes.get_xaxis().set_visible(False)\n",
    "plt.savefig('./images/seattle_911_neighborhoods2.png')\n"
   ]
  },
  {
   "cell_type": "code",
   "execution_count": null,
   "metadata": {
    "collapsed": false
   },
   "outputs": [],
   "source": [
    "if 'Unknown' in Labels:\n",
    "    print 'yes'\n",
    "if 'Unknown' not in Labels:\n",
    "    print 'no'"
   ]
  },
  {
   "cell_type": "code",
   "execution_count": null,
   "metadata": {
    "collapsed": false
   },
   "outputs": [],
   "source": [
    "len(Labels)"
   ]
  },
  {
   "cell_type": "code",
   "execution_count": null,
   "metadata": {
    "collapsed": false
   },
   "outputs": [],
   "source": [
    "len(df)"
   ]
  },
  {
   "cell_type": "code",
   "execution_count": null,
   "metadata": {
    "collapsed": false
   },
   "outputs": [],
   "source": [
    "len(nmlist)"
   ]
  },
  {
   "cell_type": "code",
   "execution_count": null,
   "metadata": {
    "collapsed": false
   },
   "outputs": [],
   "source": [
    "len(df_map)"
   ]
  },
  {
   "cell_type": "code",
   "execution_count": null,
   "metadata": {
    "collapsed": true
   },
   "outputs": [],
   "source": [
    "Labels"
   ]
  },
  {
   "cell_type": "code",
   "execution_count": null,
   "metadata": {
    "collapsed": false
   },
   "outputs": [],
   "source": [
    "df['neighborhood'] = Labels"
   ]
  },
  {
   "cell_type": "code",
   "execution_count": null,
   "metadata": {
    "collapsed": true
   },
   "outputs": [],
   "source": [
    "df.to_csv(\"./data/features_seattle_911_no_dup_hoods.csv\")"
   ]
  },
  {
   "cell_type": "code",
   "execution_count": 13,
   "metadata": {
    "collapsed": false
   },
   "outputs": [
    {
     "data": {
      "text/html": [
       "<div>\n",
       "<table border=\"1\" class=\"dataframe\">\n",
       "  <thead>\n",
       "    <tr style=\"text-align: right;\">\n",
       "      <th></th>\n",
       "      <th>Address</th>\n",
       "      <th>Type</th>\n",
       "      <th>Datetime</th>\n",
       "      <th>Latitude</th>\n",
       "      <th>Longitude</th>\n",
       "      <th>Report Location</th>\n",
       "      <th>Incident Number</th>\n",
       "      <th>dt_crop</th>\n",
       "      <th>date</th>\n",
       "      <th>time</th>\n",
       "      <th>...</th>\n",
       "      <th>dang_holiday</th>\n",
       "      <th>weekday</th>\n",
       "      <th>night</th>\n",
       "      <th>Monday</th>\n",
       "      <th>Saturday</th>\n",
       "      <th>Sunday</th>\n",
       "      <th>Thursday</th>\n",
       "      <th>Tuesday</th>\n",
       "      <th>Wednesday</th>\n",
       "      <th>neighborhood</th>\n",
       "    </tr>\n",
       "  </thead>\n",
       "  <tbody>\n",
       "    <tr>\n",
       "      <th>0</th>\n",
       "      <td>6900 37th Av S</td>\n",
       "      <td>Medic Response</td>\n",
       "      <td>2011-11-09 23:33:00</td>\n",
       "      <td>47.540683</td>\n",
       "      <td>-122.286131</td>\n",
       "      <td>(47.540683, -122.286131)</td>\n",
       "      <td>F110104166</td>\n",
       "      <td>11/09/2011 11:33:00 PM</td>\n",
       "      <td>2011-11-09</td>\n",
       "      <td>23:33:00</td>\n",
       "      <td>...</td>\n",
       "      <td>0</td>\n",
       "      <td>Wednesday</td>\n",
       "      <td>1</td>\n",
       "      <td>0</td>\n",
       "      <td>0</td>\n",
       "      <td>0</td>\n",
       "      <td>0</td>\n",
       "      <td>0</td>\n",
       "      <td>1</td>\n",
       "      <td>Unknown</td>\n",
       "    </tr>\n",
       "    <tr>\n",
       "      <th>1</th>\n",
       "      <td>N 50th St / Stone Way N</td>\n",
       "      <td>Aid Response</td>\n",
       "      <td>2011-11-09 23:32:00</td>\n",
       "      <td>47.665034</td>\n",
       "      <td>-122.340207</td>\n",
       "      <td>(47.665034, -122.340207)</td>\n",
       "      <td>F110104164</td>\n",
       "      <td>11/09/2011 11:32:00 PM</td>\n",
       "      <td>2011-11-09</td>\n",
       "      <td>23:32:00</td>\n",
       "      <td>...</td>\n",
       "      <td>0</td>\n",
       "      <td>Wednesday</td>\n",
       "      <td>1</td>\n",
       "      <td>0</td>\n",
       "      <td>0</td>\n",
       "      <td>0</td>\n",
       "      <td>0</td>\n",
       "      <td>0</td>\n",
       "      <td>1</td>\n",
       "      <td>Unknown</td>\n",
       "    </tr>\n",
       "    <tr>\n",
       "      <th>2</th>\n",
       "      <td>E John St / E Olive Way</td>\n",
       "      <td>Aid Response</td>\n",
       "      <td>2011-11-09 23:32:00</td>\n",
       "      <td>47.619575</td>\n",
       "      <td>-122.324257</td>\n",
       "      <td>(47.619575, -122.324257)</td>\n",
       "      <td>F110104165</td>\n",
       "      <td>11/09/2011 11:32:00 PM</td>\n",
       "      <td>2011-11-09</td>\n",
       "      <td>23:32:00</td>\n",
       "      <td>...</td>\n",
       "      <td>0</td>\n",
       "      <td>Wednesday</td>\n",
       "      <td>1</td>\n",
       "      <td>0</td>\n",
       "      <td>0</td>\n",
       "      <td>0</td>\n",
       "      <td>0</td>\n",
       "      <td>0</td>\n",
       "      <td>1</td>\n",
       "      <td>Unknown</td>\n",
       "    </tr>\n",
       "    <tr>\n",
       "      <th>3</th>\n",
       "      <td>611 12th Av S</td>\n",
       "      <td>Aid Response</td>\n",
       "      <td>2011-11-09 23:29:00</td>\n",
       "      <td>47.597406</td>\n",
       "      <td>-122.317228</td>\n",
       "      <td>(47.597406, -122.317228)</td>\n",
       "      <td>F110104162</td>\n",
       "      <td>11/09/2011 11:29:00 PM</td>\n",
       "      <td>2011-11-09</td>\n",
       "      <td>23:29:00</td>\n",
       "      <td>...</td>\n",
       "      <td>0</td>\n",
       "      <td>Wednesday</td>\n",
       "      <td>1</td>\n",
       "      <td>0</td>\n",
       "      <td>0</td>\n",
       "      <td>0</td>\n",
       "      <td>0</td>\n",
       "      <td>0</td>\n",
       "      <td>1</td>\n",
       "      <td>Unknown</td>\n",
       "    </tr>\n",
       "    <tr>\n",
       "      <th>4</th>\n",
       "      <td>4545 42nd Av Sw</td>\n",
       "      <td>Automatic Medical Alarm</td>\n",
       "      <td>2011-11-09 23:25:00</td>\n",
       "      <td>47.562472</td>\n",
       "      <td>-122.385455</td>\n",
       "      <td>(47.562472, -122.385455)</td>\n",
       "      <td>F110104161</td>\n",
       "      <td>11/09/2011 11:25:00 PM</td>\n",
       "      <td>2011-11-09</td>\n",
       "      <td>23:25:00</td>\n",
       "      <td>...</td>\n",
       "      <td>0</td>\n",
       "      <td>Wednesday</td>\n",
       "      <td>1</td>\n",
       "      <td>0</td>\n",
       "      <td>0</td>\n",
       "      <td>0</td>\n",
       "      <td>0</td>\n",
       "      <td>0</td>\n",
       "      <td>1</td>\n",
       "      <td>Unknown</td>\n",
       "    </tr>\n",
       "  </tbody>\n",
       "</table>\n",
       "<p>5 rows × 26 columns</p>\n",
       "</div>"
      ],
      "text/plain": [
       "                   Address                     Type            Datetime  \\\n",
       "0           6900 37th Av S           Medic Response 2011-11-09 23:33:00   \n",
       "1  N 50th St / Stone Way N             Aid Response 2011-11-09 23:32:00   \n",
       "2  E John St / E Olive Way             Aid Response 2011-11-09 23:32:00   \n",
       "3            611 12th Av S             Aid Response 2011-11-09 23:29:00   \n",
       "4          4545 42nd Av Sw  Automatic Medical Alarm 2011-11-09 23:25:00   \n",
       "\n",
       "    Latitude   Longitude           Report Location Incident Number  \\\n",
       "0  47.540683 -122.286131  (47.540683, -122.286131)      F110104166   \n",
       "1  47.665034 -122.340207  (47.665034, -122.340207)      F110104164   \n",
       "2  47.619575 -122.324257  (47.619575, -122.324257)      F110104165   \n",
       "3  47.597406 -122.317228  (47.597406, -122.317228)      F110104162   \n",
       "4  47.562472 -122.385455  (47.562472, -122.385455)      F110104161   \n",
       "\n",
       "                  dt_crop        date      time      ...      dang_holiday  \\\n",
       "0  11/09/2011 11:33:00 PM  2011-11-09  23:33:00      ...                 0   \n",
       "1  11/09/2011 11:32:00 PM  2011-11-09  23:32:00      ...                 0   \n",
       "2  11/09/2011 11:32:00 PM  2011-11-09  23:32:00      ...                 0   \n",
       "3  11/09/2011 11:29:00 PM  2011-11-09  23:29:00      ...                 0   \n",
       "4  11/09/2011 11:25:00 PM  2011-11-09  23:25:00      ...                 0   \n",
       "\n",
       "     weekday  night  Monday  Saturday  Sunday  Thursday Tuesday  Wednesday  \\\n",
       "0  Wednesday      1       0         0       0         0       0          1   \n",
       "1  Wednesday      1       0         0       0         0       0          1   \n",
       "2  Wednesday      1       0         0       0         0       0          1   \n",
       "3  Wednesday      1       0         0       0         0       0          1   \n",
       "4  Wednesday      1       0         0       0         0       0          1   \n",
       "\n",
       "   neighborhood  \n",
       "0       Unknown  \n",
       "1       Unknown  \n",
       "2       Unknown  \n",
       "3       Unknown  \n",
       "4       Unknown  \n",
       "\n",
       "[5 rows x 26 columns]"
      ]
     },
     "execution_count": 13,
     "metadata": {},
     "output_type": "execute_result"
    }
   ],
   "source": [
    "df.head(10)"
   ]
  },
  {
   "cell_type": "code",
   "execution_count": null,
   "metadata": {
    "collapsed": true
   },
   "outputs": [],
   "source": [
    "Labels = []\n",
    "nmlist = []\n",
    "\n",
    "'''\n",
    "THIS IS THE PART THAT CHECKS WHICH NEIGHBORHOOD A POINT IS IN\n",
    "'''\n",
    "for polygon in df_map['poly']:\n",
    "    nm = df_map.loc[df_map['poly'] == polygon, 'name'].iloc[0]\n",
    "    if len(nm.strip()) < 4 or nm in nm\n",
    "        continue\n",
    "    nmlist.append(nm)"
   ]
  },
  {
   "cell_type": "code",
   "execution_count": null,
   "metadata": {
    "collapsed": false
   },
   "outputs": [],
   "source": [
    "zone1 = []\n",
    "zone2 = []\n",
    "zone3 = []\n",
    "zone4 = []\n",
    "zone5 = []\n",
    "zone6 = []\n",
    "zone7 = []"
   ]
  },
  {
   "cell_type": "code",
   "execution_count": null,
   "metadata": {
    "collapsed": false
   },
   "outputs": [],
   "source": [
    "df['zone1'] = df.neighborhood.isin(zone1).astype(int)\n",
    "df['zone2'] = df.neighborhood.isin(zone2).astype(int)\n",
    "df['zone3'] = df.neighborhood.isin(zone3).astype(int)\n",
    "df['zone4'] = df.neighborhood.isin(zone4).astype(int)\n",
    "df['zone5'] = df.neighborhood.isin(zone5).astype(int)\n",
    "df['zone6'] = df.neighborhood.isin(zone6).astype(int)\n",
    "df['zone7'] = df.neighborhood.isin(zone7).astype(int)"
   ]
  },
  {
   "cell_type": "code",
   "execution_count": null,
   "metadata": {
    "collapsed": false
   },
   "outputs": [],
   "source": [
    "from datetime import date\n",
    "\n",
    "# Cast to datetime\n",
    "df.date = pd.to_datetime(df.date)\n",
    "\n",
    "# Earliest date in dataset\n",
    "day0 = date(2010,6,29)\n",
    "\n",
    "# Create days feature and for regularization by model\n",
    "df['day_num'] = (df.date - day0).days"
   ]
  },
  {
   "cell_type": "code",
   "execution_count": null,
   "metadata": {
    "collapsed": true
   },
   "outputs": [],
   "source": []
  }
 ],
 "metadata": {
  "anaconda-cloud": {},
  "kernelspec": {
   "display_name": "Python [conda root]",
   "language": "python",
   "name": "conda-root-py"
  },
  "language_info": {
   "codemirror_mode": {
    "name": "ipython",
    "version": 2
   },
   "file_extension": ".py",
   "mimetype": "text/x-python",
   "name": "python",
   "nbconvert_exporter": "python",
   "pygments_lexer": "ipython2",
   "version": "2.7.12"
  }
 },
 "nbformat": 4,
 "nbformat_minor": 1
}

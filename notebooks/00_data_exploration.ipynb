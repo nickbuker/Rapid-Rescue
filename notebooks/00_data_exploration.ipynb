{
 "cells": [
  {
   "cell_type": "code",
   "execution_count": 17,
   "metadata": {},
   "outputs": [],
   "source": [
    "import pandas as pd\n",
    "import numpy as np\n",
    "import matplotlib.pyplot as plt\n",
    "# make it pretty\n",
    "%matplotlib inline\n",
    "plt.style.use('ggplot')"
   ]
  },
  {
   "cell_type": "code",
   "execution_count": 8,
   "metadata": {},
   "outputs": [
    {
     "name": "stderr",
     "output_type": "stream",
     "text": [
      "/home/nick/Envs/RapidRescue-DaCN2RHa/lib/python3.6/site-packages/IPython/core/interactiveshell.py:2785: DtypeWarning: Columns (3) have mixed types. Specify dtype option on import or set low_memory=False.\n",
      "  interactivity=interactivity, compiler=compiler, result=result)\n"
     ]
    }
   ],
   "source": [
    "# first row after header is empty\n",
    "df = pd.read_csv('../data/raw_data_20180826.csv', skiprows=[1])"
   ]
  },
  {
   "cell_type": "code",
   "execution_count": 9,
   "metadata": {},
   "outputs": [
    {
     "data": {
      "text/html": [
       "<div>\n",
       "<style scoped>\n",
       "    .dataframe tbody tr th:only-of-type {\n",
       "        vertical-align: middle;\n",
       "    }\n",
       "\n",
       "    .dataframe tbody tr th {\n",
       "        vertical-align: top;\n",
       "    }\n",
       "\n",
       "    .dataframe thead th {\n",
       "        text-align: right;\n",
       "    }\n",
       "</style>\n",
       "<table border=\"1\" class=\"dataframe\">\n",
       "  <thead>\n",
       "    <tr style=\"text-align: right;\">\n",
       "      <th></th>\n",
       "      <th>Address</th>\n",
       "      <th>Type</th>\n",
       "      <th>Datetime</th>\n",
       "      <th>Latitude</th>\n",
       "      <th>Longitude</th>\n",
       "      <th>Incident Number</th>\n",
       "    </tr>\n",
       "  </thead>\n",
       "  <tbody>\n",
       "    <tr>\n",
       "      <th>0</th>\n",
       "      <td>6900 37th Av S</td>\n",
       "      <td>Medic Response</td>\n",
       "      <td>11/09/2011 11:33:00 PM +0000</td>\n",
       "      <td>47.540683</td>\n",
       "      <td>-122.286131</td>\n",
       "      <td>F110104166</td>\n",
       "    </tr>\n",
       "    <tr>\n",
       "      <th>1</th>\n",
       "      <td>N 50th St / Stone Way N</td>\n",
       "      <td>Aid Response</td>\n",
       "      <td>11/09/2011 11:32:00 PM +0000</td>\n",
       "      <td>47.665034</td>\n",
       "      <td>-122.340207</td>\n",
       "      <td>F110104164</td>\n",
       "    </tr>\n",
       "    <tr>\n",
       "      <th>2</th>\n",
       "      <td>E John St / E Olive Way</td>\n",
       "      <td>Aid Response</td>\n",
       "      <td>11/09/2011 11:32:00 PM +0000</td>\n",
       "      <td>47.619575</td>\n",
       "      <td>-122.324257</td>\n",
       "      <td>F110104165</td>\n",
       "    </tr>\n",
       "    <tr>\n",
       "      <th>3</th>\n",
       "      <td>611 12th Av S</td>\n",
       "      <td>Aid Response</td>\n",
       "      <td>11/09/2011 11:29:00 PM +0000</td>\n",
       "      <td>47.597406</td>\n",
       "      <td>-122.317228</td>\n",
       "      <td>F110104162</td>\n",
       "    </tr>\n",
       "    <tr>\n",
       "      <th>4</th>\n",
       "      <td>4545 42nd Av Sw</td>\n",
       "      <td>Automatic Medical Alarm</td>\n",
       "      <td>11/09/2011 11:25:00 PM +0000</td>\n",
       "      <td>47.562472</td>\n",
       "      <td>-122.385455</td>\n",
       "      <td>F110104161</td>\n",
       "    </tr>\n",
       "  </tbody>\n",
       "</table>\n",
       "</div>"
      ],
      "text/plain": [
       "                   Address                     Type  \\\n",
       "0           6900 37th Av S           Medic Response   \n",
       "1  N 50th St / Stone Way N             Aid Response   \n",
       "2  E John St / E Olive Way             Aid Response   \n",
       "3            611 12th Av S             Aid Response   \n",
       "4          4545 42nd Av Sw  Automatic Medical Alarm   \n",
       "\n",
       "                       Datetime   Latitude   Longitude Incident Number  \n",
       "0  11/09/2011 11:33:00 PM +0000  47.540683 -122.286131      F110104166  \n",
       "1  11/09/2011 11:32:00 PM +0000  47.665034 -122.340207      F110104164  \n",
       "2  11/09/2011 11:32:00 PM +0000  47.619575 -122.324257      F110104165  \n",
       "3  11/09/2011 11:29:00 PM +0000  47.597406 -122.317228      F110104162  \n",
       "4  11/09/2011 11:25:00 PM +0000  47.562472 -122.385455      F110104161  "
      ]
     },
     "execution_count": 9,
     "metadata": {},
     "output_type": "execute_result"
    }
   ],
   "source": [
    "df.head()"
   ]
  },
  {
   "cell_type": "code",
   "execution_count": 11,
   "metadata": {},
   "outputs": [
    {
     "name": "stdout",
     "output_type": "stream",
     "text": [
      "<class 'pandas.core.frame.DataFrame'>\n",
      "RangeIndex: 746079 entries, 0 to 746078\n",
      "Data columns (total 6 columns):\n",
      "Address            745080 non-null object\n",
      "Type               746079 non-null object\n",
      "Datetime           746079 non-null object\n",
      "Latitude           744382 non-null object\n",
      "Longitude          744358 non-null float64\n",
      "Incident Number    717047 non-null object\n",
      "dtypes: float64(1), object(5)\n",
      "memory usage: 34.2+ MB\n"
     ]
    }
   ],
   "source": [
    "df.info()"
   ]
  },
  {
   "cell_type": "code",
   "execution_count": 19,
   "metadata": {},
   "outputs": [
    {
     "data": {
      "text/plain": [
       "Aid Response                      404068\n",
       "Medic Response                    112489\n",
       "Auto Fire Alarm                    39070\n",
       "Trans to AMR                       35321\n",
       "Aid Response Yellow                15451\n",
       "Motor Vehicle Accident             10944\n",
       "Automatic Fire Alarm Resd          10685\n",
       "Automatic Medical Alarm            10296\n",
       "MVI - Motor Vehicle Incident        9603\n",
       "1RED 1 Unit                         8271\n",
       "Rescue Elevator                     6672\n",
       "Medic Response- 7 per Rule          6406\n",
       "Medic Response- 6 per Rule          4760\n",
       "Investigate Out Of Service          4623\n",
       "Alarm Bell                          4074\n",
       "Illegal Burn                        3316\n",
       "Hang-Up- Aid                        3040\n",
       "EVENT - Special Event               2675\n",
       "Automatic Fire Alarm False          2640\n",
       "Activated CO Detector               2562\n",
       "4RED - 2 + 1 + 1                    2552\n",
       "Car Fire                            2537\n",
       "Motor Vehicle Accident Freeway      2524\n",
       "Water Job Minor                     2505\n",
       "Natural Gas Odor                    2431\n",
       "MVI Freeway                         2176\n",
       "Unk Odor                            2166\n",
       "Brush Fire                          1996\n",
       "AFA4 - Auto Alarm 2 + 1 + 1         1956\n",
       "Fire in Building                    1707\n",
       "                                   ...  \n",
       "MCI Major                              3\n",
       "Mutual Aid- Adv. Life                  3\n",
       "Quick Aid Response                     3\n",
       "Water Rescue Recon                     3\n",
       "Mutual Aid- Hazmat                     3\n",
       "Brush Fire Major                       3\n",
       "Mutual Aid, Aid                        3\n",
       "Monorail Fire on the beam              3\n",
       "Mutual Aid- Tech Res                   3\n",
       "Tunnel Fire                            3\n",
       "Automatic Aid Dist 11                  2\n",
       "QAID- Quick Dispatch Aid Call          2\n",
       "Ship Fire 50' on Water                 2\n",
       "Rescue Fresh Water Maj                 2\n",
       "Mutual Aid, Medic                      2\n",
       "Mutual Aid, Engine                     2\n",
       "Mutual Aid- Marine                     2\n",
       "Tank Farm                              2\n",
       "Mutual Aid- Strike Team Lad            1\n",
       "Rescue Ice                             1\n",
       "Testing Only Testing                   1\n",
       "Mutual Aid, Strike Eng.                1\n",
       "Mutual Aid Tsk F. BLS                  1\n",
       "WHAZMCI - Hazmat MCI                   1\n",
       "WAFAH - Auto Fire Alarm Hazmat         1\n",
       "Tunnel Rescue                          1\n",
       "Mutual Aid- Aircraft                   1\n",
       "Mutual Aid, Adv. Life                  1\n",
       "Mutual Aid- Air                        1\n",
       "Scenes Of Violence MCI                 1\n",
       "Name: Type, Length: 192, dtype: int64"
      ]
     },
     "execution_count": 19,
     "metadata": {},
     "output_type": "execute_result"
    }
   ],
   "source": [
    "df['Type'].value_counts()"
   ]
  },
  {
   "cell_type": "code",
   "execution_count": null,
   "metadata": {},
   "outputs": [],
   "source": []
  }
 ],
 "metadata": {
  "kernelspec": {
   "display_name": "py36rr",
   "language": "python",
   "name": "py36rr"
  },
  "language_info": {
   "codemirror_mode": {
    "name": "ipython",
    "version": 3
   },
   "file_extension": ".py",
   "mimetype": "text/x-python",
   "name": "python",
   "nbconvert_exporter": "python",
   "pygments_lexer": "ipython3",
   "version": "3.6.5"
  }
 },
 "nbformat": 4,
 "nbformat_minor": 2
}
